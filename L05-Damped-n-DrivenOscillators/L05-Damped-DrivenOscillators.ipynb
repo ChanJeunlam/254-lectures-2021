{
 "cells": [
  {
   "cell_type": "raw",
   "metadata": {
    "raw_mimetype": "text/latex",
    "slideshow": {
     "slide_type": "skip"
    }
   },
   "source": [
    "\\DefineVerbatimEnvironment{Verbatim}{Verbatim}{fontsize=\\scriptsize}\n",
    "\n",
    "\\newcommand{\\bnabla}{\\boldsymbol{\\nabla}}\n",
    "\\newcommand{\\eexp}[1]{\\text{e}^{#1}}\n",
    "\\newcommand{\\di}[0]{\\text{d}}\n",
    "\\newcommand{\\bs}[1]{\\boldsymbol{#1}}\n",
    "\\newcommand{\\ode}[2]{\\frac{\\di {#1}}{\\di {#2}}}\n",
    "\\newcommand{\\oden}[3]{\\frac{\\di^{#1} {#2}}{\\di {#3}^{#1}}}\n",
    "\\newcommand{\\odel}[2]{\\di {#1}/\\di {#2}}\n",
    "\\newcommand{\\odeln}[3]{\\di^{#1} {#2}/\\di {#3}^{#1}}\n",
    "\\newcommand{\\pde}[2]{\\frac{\\partial {#1}}{\\partial {#2}}}\n",
    "\\newcommand{\\pden}[3]{\\frac{\\partial^{#1} {#2}}{\\partial {#3}^{#1}}}\n",
    "\\newcommand{\\pdel}[2]{\\partial_{#2} {#1}}\n",
    "\\newcommand{\\pdenl}[3]{\\partial^{#1}_{#3} {#2}}\n",
    "\\newcommand{\\divr}[1]{\\vec\\nabla \\cdot {#1}}\n",
    "\\newcommand{\\divrb}[1]{\\boldsymbol{\\nabla} \\cdot {#1}}\n",
    "\\newcommand{\\grad}[1]{\\vec \\nabla {#1}}\n",
    "\\newcommand{\\gradb}[1]{\\boldsymbol\\nabla {#1}}\n",
    "\\newcommand{\\curl}[1]{\\vec\\nabla \\times {#1}}\n",
    "\\newcommand{\\curlb}[1]{\\boldsymbol{\\nabla}\\times\\boldsymbol{#1}}\n",
    "\\newcommand{\\lapl}[0]{\\vec\\nabla^2}\n",
    "\\newcommand{\\laplb}[0]{\\boldsymbol{\\nabla}^2}\n",
    "\\newcommand{\\cplxi}[0]{\\text{i}}\n",
    "\\newcommand{\\unit}[1]{\\mathbf{\\hat{#1}}}\n",
    "\\newcommand{\\red}[1]{\\textcolor{red}{#1}}\n",
    "\\newcommand{\\blue}[1]{\\textcolor{blue}{#1}}\n",
    "\\newcommand{\\mage}[1]{\\textcolor{magenta}{#1}}\n",
    "\\newcommand{\\with}[0]{\\quad\\text{with}\\quad}\n",
    "\\newcommand{\\thrfor}[0]{\\quad\\Rightarrow\\quad}\n",
    "\\newcommand{\\andeq}[0]{\\quad\\text{and}\\quad}\n",
    "\\newcommand{\\oreq}[0]{\\quad\\text{or}\\quad}"
   ]
  },
  {
   "cell_type": "markdown",
   "metadata": {
    "raw_mimetype": "text/markdown",
    "slideshow": {
     "slide_type": "skip"
    }
   },
   "source": [
    "$\\newcommand{\\bnabla}{\\boldsymbol{\\nabla}}$\n",
    "$\\newcommand{\\eexp}[1]{\\text{e}^{#1}}$\n",
    "$\\newcommand{\\di}[0]{\\text{d}}$\n",
    "$\\newcommand{\\bs}[1]{\\boldsymbol{#1}}$\n",
    "$\\newcommand{\\ode}[2]{\\frac{\\di {#1}}{\\di {#2}}}$\n",
    "$\\newcommand{\\oden}[3]{\\frac{\\di^{#1} {#2}}{\\di {#3}^{#1}}}$\n",
    "$\\newcommand{\\odel}[2]{\\di {#1}/\\di {#2}}$\n",
    "$\\newcommand{\\odeln}[3]{\\di^{#1} {#2}/\\di {#3}^{#1}}$\n",
    "$\\newcommand{\\pde}[2]{\\frac{\\partial {#1}}{\\partial {#2}}}$\n",
    "$\\newcommand{\\pden}[3]{\\frac{\\partial^{#1} {#2}}{\\partial {#3}^{#1}}}$\n",
    "$\\newcommand{\\pdel}[2]{\\partial_{#2} {#1}}$\n",
    "$\\newcommand{\\pdenl}[3]{\\partial^{#1}_{#3} {#2}}$\n",
    "$\\newcommand{\\divr}[1]{\\vec\\nabla \\cdot {#1}}$\n",
    "$\\newcommand{\\divrb}[1]{\\boldsymbol{\\nabla} \\cdot {#1}}$\n",
    "$\\newcommand{\\grad}[1]{\\vec \\nabla {#1}}$\n",
    "$\\newcommand{\\gradb}[1]{\\boldsymbol\\nabla {#1}}$\n",
    "$\\newcommand{\\curl}[1]{\\vec\\nabla \\times {#1}}$\n",
    "$\\newcommand{\\curlb}[1]{\\boldsymbol{\\nabla}\\times\\boldsymbol{#1}}$\n",
    "$\\newcommand{\\lapl}[0]{\\vec\\nabla^2}$\n",
    "$\\newcommand{\\laplb}[0]{\\boldsymbol{\\nabla}^2}$\n",
    "$\\newcommand{\\cplxi}[0]{\\text{i}}$\n",
    "$\\newcommand{\\unit}[1]{\\mathbf{\\hat{#1}}}$\n",
    "$\\newcommand{\\thrfor}[0]{\\quad\\Rightarrow\\quad}$\n",
    "$\\newcommand{\\red}[1]{\\textcolor{red}{#1}}$\n",
    "$\\newcommand{\\blue}[1]{\\textcolor{blue}{#1}}$\n",
    "$\\newcommand{\\mage}[1]{\\textcolor{magenta}{#1}}$\n",
    "$\\newcommand{\\with}[0]{\\quad\\text{with}\\quad}$\n",
    "$\\newcommand{\\thrfor}[0]{\\quad\\Rightarrow\\quad}$\n",
    "$\\newcommand{\\andeq}[0]{\\quad\\text{and}\\quad}$\n",
    "$\\newcommand{\\oreq}[0]{\\quad\\text{or}\\quad}$"
   ]
  },
  {
   "cell_type": "code",
   "execution_count": 1,
   "metadata": {
    "slideshow": {
     "slide_type": "skip"
    }
   },
   "outputs": [],
   "source": [
    "from IPython.display import Image, display, YouTubeVideo\n",
    "import numpy as np\n",
    "import matplotlib.pyplot as plt\n",
    "from matplotlib import interactive\n",
    "from ipywidgets import interact, FloatSlider, fixed\n",
    "from matplotlib import rcParams\n",
    "interactive(True)\n",
    "rcParams['figure.dpi'] = 100  # for crisper figures later"
   ]
  },
  {
   "cell_type": "markdown",
   "metadata": {
    "slideshow": {
     "slide_type": "skip"
    }
   },
   "source": [
    "*Readings:*\n",
    "\n",
    "* *Morin 4.4*\n",
    "* *French Chapter 4*"
   ]
  },
  {
   "cell_type": "markdown",
   "metadata": {
    "slideshow": {
     "slide_type": "skip"
    }
   },
   "source": [
    "\n",
    "\n",
    "# Expectations"
   ]
  },
  {
   "cell_type": "markdown",
   "metadata": {
    "slideshow": {
     "slide_type": "slide"
    }
   },
   "source": [
    "## Remember:\n",
    "\n",
    "* If an oscillator is driven at angular frequency $\\omega$, then the oscillator also oscillates at angular frequency $\\omega$, no matter what its value of $\\omega_0$ and $\\gamma$ are.\n",
    "* If the oscillator is driven at $\\omega \\approx \\omega_0$, then the oscillator resonates, i.e., it amplifies the oscillations of the driver.\n",
    "* At resonance, the amplitude of the oscillations is approximately equal to the amplitude of the forcing multiplied by $Q$: $A \\approx QA_f$,\n",
    "* When $\\omega < \\omega_0$, driving and oscillator oscillate in phase (think of the spring that is barely stretched or compressed), when $\\omega > \\omega_0$, driver and oscillator are in phase opposition, and when $\\omega \\approx \\omega_0$, the oscillator lags the driver by a quarter cycle ($\\pi/2$).\n",
    "* The resonance frequency is exactly $\\omega_0$ because it is where the peak in velocity response and power absorption are both located.\n",
    "* The full width at half height, how to recognize it in a power curve, and that $\\omega_{fwhh} \\approx \\gamma$.\n",
    "* The trade-off between the amplification that is proportional to $Q$, and the FWHH, which goes as $1/Q$ (recall: $\\omega_{fwhh} \\approx \\gamma = \\omega_0/Q$)."
   ]
  },
  {
   "cell_type": "markdown",
   "metadata": {
    "slideshow": {
     "slide_type": "subslide"
    }
   },
   "source": [
    "## Understand:\n",
    "\n",
    "* Testing for $x = A \\cos(\\omega t - \\delta)$ is validated by finding expressions for $A$ and $\\delta$ that would satisfy the nonhomogeneous ODE.\n",
    "* How we use the rule that $$ A\\cos(\\omega t) + B\\sin(\\omega t) = C \\cos(\\omega t) \\thrfor A = C\\quad \\textrm{and}\\quad B = 0$$\n",
    "to obtain the curves for $A(\\omega)$ and $\\delta(\\omega)$.\n",
    "* The connection between the transient and forced responses being superposed, and the mathematical result that the solution to a nonhomogeneous ODE is the sum of the complementary and particular solutions."
   ]
  },
  {
   "cell_type": "markdown",
   "metadata": {
    "slideshow": {
     "slide_type": "subslide"
    }
   },
   "source": [
    "## Apply\n",
    "\n",
    "* See worked examples, tutorials and problem sets."
   ]
  },
  {
   "cell_type": "markdown",
   "metadata": {
    "slideshow": {
     "slide_type": "skip"
    }
   },
   "source": [
    "# Recap of the undamped case\n",
    "\n",
    "* Reminisce again about what it is to play on a swing set:\n",
    "    * Drop from a certain angle and stay still on the swing: you are oscillating are the natural angular frequency $\\omega_0$, or more realistically, at the damped angular frequency $\\omega_d$ (swings sets are popular because damping is not very high, so, $\\omega_0 \\approx \\omega_d$).\n",
    "    * Move your legs much less frequently than this frequency ($\\omega \\ll \\omega_0$): you don't get very far, and your legs are in phase with your angle, that is, legs forward, you go forward, and vice-versa.\n",
    "        Your angle has a phase shift $\\delta= 0$ with your legs.\n",
    "        It's hard to realize but if you have a swing set nearby, try it.\n",
    "    * Move your legs a lot faster such that $\\omega \\ll \\omega_0$ that and once again, you don't go very far.\n",
    "        Pay real close attention and you will notice that your legs and your position are out-of-phase: your angle has a phase shift $\\delta= \\pi$ with your legs.\n",
    "        It's even harder to realize than in the low-frequency case because it's harder to concentrate, but it's true.\n",
    "    * Move your legs at about $\\omega \\approx \\omega_0\\approx \\omega_d$ (swings sets are popular because damping is not very high), and you will start going real high.\n",
    "        Notice that instinctively, you flip the direction of your legs when your position is maximum.\n",
    "        That is, it is when you are on top of your trajectory, facing the ground, that you flip your legs from below the seat to forward.\n",
    "        They will be at maximum forward extension when you pass the vertical plane (zero angle), and will keep this 1/4-cycle advance ($\\delta = \\pi/4$) on your position as long as you resonate.\n",
    "\n",
    "As tough as the math gets, all the physics you need to understand for now is encapsulated in these scenarios!\n",
    "Here is a demo though (at at https://youtu.be/Is7shffFJFs), where I repeat these points."
   ]
  },
  {
   "cell_type": "code",
   "execution_count": 19,
   "metadata": {
    "scrolled": false,
    "slideshow": {
     "slide_type": "slide"
    }
   },
   "outputs": [
    {
     "data": {
      "image/jpeg": "[encoded data removed]",
      "text/html": [
       "\n",
       "        <iframe\n",
       "            width=\"560\"\n",
       "            height=\"300\"\n",
       "            src=\"https://www.youtube.com/embed/Is7shffFJFs\"\n",
       "            frameborder=\"0\"\n",
       "            allowfullscreen\n",
       "        ></iframe>\n",
       "        "
      ],
      "text/plain": [
       "<IPython.lib.display.YouTubeVideo at 0x7ff8460cb7f0>"
      ]
     },
     "execution_count": 19,
     "metadata": {},
     "output_type": "execute_result"
    }
   ],
   "source": [
    "YouTubeVideo('Is7shffFJFs', width=560, height=300)"
   ]
  },
  {
   "cell_type": "markdown",
   "metadata": {
    "slideshow": {
     "slide_type": "skip"
    }
   },
   "source": [
    "Mathematically, we determined that we needed to solve an inhomogeneous ODE, with the LHS being the SHO equation, and the RHS being the forcing.\n",
    "Switching to complex notations, this ODE was\n",
    "$$ \\boxed{\\ddot z + \\omega_0^2 z = \\omega_0^2A_f\\eexp{\\cplxi\\omega t}},$$\n",
    "with $z \\in \\mathbb C$ and $\\text{Re}(z) = x$.\n",
    "We let out previous problem adopt an exponential, $z = Z\\eexp{rt}$, and found\n",
    "\\begin{equation}\n",
    "    Z = \\frac{\\omega_0^2 A_f}{\\omega_0^2 - \\omega^2}.\n",
    "    \\label{eq:ZinCundamp}\n",
    "\\end{equation}"
   ]
  },
  {
   "cell_type": "markdown",
   "metadata": {
    "slideshow": {
     "slide_type": "skip"
    }
   },
   "source": [
    "For **low frequencies**, i.e., $\\bs{\\omega}$ < $\\bs\\omega_0$, the response was \n",
    "$$x(t) = \\text{Re}(z) = A(\\omega)\\cos(\\omega t), \\with A(\\omega) = \\frac{\\omega_0^2 A_f}{\\omega_0^2 - \\omega^2},$$\n",
    "for **high frequencies**, $\\bs{\\omega}$ > $\\bs\\omega_0$, the response was\n",
    "$$x(t) = \\text{Re}(z) = A(\\omega)\\cos(\\omega t - \\pi), \\with A(\\omega) = \\frac{\\omega_0^2 A_f}{\\omega^2 - \\omega_0^2},$$\n",
    "and at **resonance**, the response was\n",
    "\\begin{equation}\n",
    "    x(t) = \\frac12 A_f\\omega_0 t \\cos\\left(\\omega_0 t - \\frac\\pi2\\right).\n",
    "    \\label{eq:xResUndamped}\n",
    "\\end{equation}"
   ]
  },
  {
   "cell_type": "markdown",
   "metadata": {
    "slideshow": {
     "slide_type": "skip"
    }
   },
   "source": [
    "We didn't derive it so no worries if you don't know where it comes from. The most interesting piece of info was the $-\\pi/2$ phase shift, namely, the position is a quarter-cycle behind the forcing, just like on the swing set.\n",
    "And the second-most interesting piece of info was that the amplitude increased linearly with time, seemingly without end...\n",
    "\n",
    "... Or not? Let's think about it: as the amplitude gets larger and larger, so does the velocity.\n",
    "There will come a time when the hypothesis of no damping will be egregiously wrong.\n",
    "So, let's reintroduce it."
   ]
  },
  {
   "cell_type": "markdown",
   "metadata": {
    "slideshow": {
     "slide_type": "skip"
    }
   },
   "source": [
    "# Driving a damped oscillator\n",
    "\n",
    "Adding damping adds a few differences with the previous, undamped case.\n",
    "In short, the mathematically weird stuff in the previous solution gets regularized: the weird jump in phase from $0$ to $\\pi$ and the diverging amplitude get a more physical treatment.\n",
    "\n",
    "You know the drill: FBD with a moving wall, dividing by the mass, rearranging to let the free part of the equation or the LHS and leaving the forcing on the RHS yields\n",
    "$$ \\ddot x + 2\\gamma \\dot x +\\omega_0^2x = \\omega_0^2 A_f\\cos(\\omega t). $$ \n",
    "\n",
    "Once again, we will focus on the particular solution, for the same reasons as before.\n",
    "This is even more justified because with damping, the homogeneous solution would eventually die.\n",
    "We will come back to it."
   ]
  },
  {
   "cell_type": "markdown",
   "metadata": {
    "slideshow": {
     "slide_type": "skip"
    }
   },
   "source": [
    "Before adopting an exponential, let's move to the complex space,\n",
    "$$\\ddot z + 2\\gamma \\dot z + \\omega_0^2 z = \\omega_0^2 A_f \\eexp{\\cplxi \\omega t},$$\n",
    "\n",
    "Let it adopt an exponential $z = Z\\eexp{rt}$ and just like for the undamped case, you quickly obtain\n",
    "$$r = \\pm\\cplxi \\omega \\andeq \\left(-\\omega^2 +2 \\cplxi \\gamma \\omega + \\omega_0^2\\right) Z = \\omega_0^2 A_f,$$\n",
    "or\n",
    "$$Z = \\frac{\\omega_0^2 A_f}{\\omega_0^2 - \\omega^2 +2 \\cplxi \\gamma \\omega}.$$\n",
    "Technically, we solved the problem with this, a computer could just plot the magnitude and phase of this for us.\n",
    "But let's try to understand this solution with pen-and-paper.\n",
    "\n",
    "The algebra that follows can be intimidating because the terms are so big, so let me introduce a few intermediate quantities.\n",
    "Let $p = \\omega_0^2 - \\omega^2$, $q = 2\\gamma\\omega$, after which $Z$ becomes\n",
    "$$Z = \\frac{\\omega_0^2 A_f}{p+\\cplxi q}.$$"
   ]
  },
  {
   "cell_type": "markdown",
   "metadata": {
    "slideshow": {
     "slide_type": "skip"
    }
   },
   "source": [
    "The next step is to figure out the magnitude of $Z$, because it will tell us how far the mass goes given a certain forcing, and the phase, and we both know from before that they depend on the driving frequency $\\omega$.\n",
    "So, like before, let's use a polar representation $Z = A(\\omega)\\eexp{-\\cplxi\\delta(\\omega)}$ and crank the algebra machine up.\n",
    "The amplitude is the easiest, with\n",
    "$$|Z| = \\frac{\\omega_0^2 A_f}{\\sqrt{p^2 + q^2}} = \\boxed{A(\\omega) = \\frac{\\omega_0^2 A_f}{\\sqrt{(\\omega_0^2 - \\omega^2)^2 + 4\\gamma^2 \\omega^2}}}.$$\n",
    "Notice something on the denominator?\n",
    "Inside the square root, you see the sum of two squared real expressions that are zero for different $\\omega$'s, and whose sum is therefore never zero.\n",
    "The denominator is therefore always positive now, the amplitude never diverges to infinity!"
   ]
  },
  {
   "cell_type": "markdown",
   "metadata": {
    "slideshow": {
     "slide_type": "skip"
    }
   },
   "source": [
    "For the phase, I find it easier to decompose $Z/A(\\omega)$ into real and imaginary parts to obtain the cos and sin.\n",
    "This is like finding the real and imaginary parts of the division of two complex numbers, which we saw in lecture 02:\n",
    "$$Z = \\frac{\\omega_0^2 A_f}{p + \\cplxi q}\\frac{p - \\cplxi q}{p - \\cplxi q} = \\frac{\\omega_0^2 A_f(p - \\cplxi q)}{p^2 + q^2}.$$"
   ]
  },
  {
   "cell_type": "markdown",
   "metadata": {
    "slideshow": {
     "slide_type": "skip"
    }
   },
   "source": [
    "To get the cos and sin of the phase, we divide this by $A(\\omega)$ to obtain\n",
    "$$\\frac{Z}{A} = \\eexp{-\\cplxi \\delta} = \\cos\\delta - \\cplxi\\sin\\delta = \\frac{p}D - \\cplxi \\frac{q}{D}.$$\n",
    "Because $p$, $q$ and $D$ are all real, identifying the real and imaginary parts is easy, it's just\n",
    "$$\\cos\\delta = \\frac{p}{\\sqrt{p^2 + q^2}} \\andeq \\sin\\delta = \\frac{q}{\\sqrt{p^2 + q^2}}.$$"
   ]
  },
  {
   "cell_type": "markdown",
   "metadata": {
    "slideshow": {
     "slide_type": "skip"
    }
   },
   "source": [
    "Before unpacking what will probably be a voluminous expression, let's see if the tangent of the phase would be enough.\n",
    "I am educating this guess with two pieces of information:\n",
    "* In the undamped case, the phase was 0 or $\\pi$. We could hope that our phase would be in the same $[0, \\pi)$ bracket, and therefore the knowledge of $\\cos\\delta$, $\\sin\\delta$ or $\\tan\\delta$ alone would be enough to know $\\delta$.\n",
    "* I already know the answer: it works."
   ]
  },
  {
   "cell_type": "markdown",
   "metadata": {
    "slideshow": {
     "slide_type": "skip"
    }
   },
   "source": [
    "After all of this tension, let us reveal the phase shift with respect to the forcing, namely,\n",
    "$$\\tan \\delta = \\frac{\\sin\\delta}{\\cos\\delta} = \\frac qp = \\frac{2\\gamma \\omega}{\\omega_0^2 - \\omega^2} \\thrfor \\boxed{\\delta(\\omega) = \\arctan\\left(\\frac{2\\gamma\\omega}{\\omega_0^2 - \\omega^2}\\right)}.$$\n",
    "\n",
    "Notice that the denominator isn't defined when $\\omega_0 = \\omega$.\n",
    "That's OK, just recall that when $\\omega = \\omega_0$, $p = 0$, and therefore,\n",
    "$\\cos\\delta(\\omega=\\omega_0) =0$, $\\sin\\delta(\\omega = \\omega_0) = q/\\sqrt{0^2 +q^2} = +1$, and therefore, $\\delta = \\pi/2$... like on the swing set, again!\n",
    "\n",
    "We now have everything we need to plot the solution $x = A(\\omega)\\cos\\left[\\omega - \\delta(\\omega)\\right]$."
   ]
  },
  {
   "cell_type": "markdown",
   "metadata": {
    "slideshow": {
     "slide_type": "skip"
    }
   },
   "source": [
    "# Varying the forcing frequency\n",
    "\n",
    "\n",
    "| Feature | $A(\\omega)/A_f$ | $\\tan[\\delta(\\omega)]$ | $\\delta(\\omega)$ |\n",
    "| :----------------: | :----------------: | :----------------: | :----------------: |\n",
    "| Expression | $\\frac{\\omega^2_0}{\\sqrt{\\gamma^{2} \\omega^{2} + (\\omega_{0}^{2} - \\omega^{2})^2}}$ | $\\frac{\\gamma \\omega }{\\omega_{0}^{2} - \\omega^{2}}$ | $\\arctan\\left(\\dots\\right)$ |\n",
    "| Non-dimensional ($\\varpi = \\omega/\\omega_0$) | $\\frac{1}{\\sqrt{\\varpi^{2}/Q^2 + (1 - \\varpi^{2})^2}}$ | $\\frac1Q\\frac{\\varpi }{1 - \\varpi^{2}}$ | $\\arctan\\left(\\dots\\right)$ |\n",
    "| $\\lim_{\\omega \\to 0}$ | 1 | 0 | 0 |\n",
    "| $\\lim_{\\omega \\to \\infty}$ | 0 | 0$_-$ | $\\pi$ |\n",
    "| $\\omega = \\omega_0$ | $\\frac{\\omega_0}{\\gamma} = Q$ | $+\\infty$ | $\\pi/2$ |\n",
    "\n",
    "*Note: the table above looks all garbled on my notebook.*"
   ]
  },
  {
   "cell_type": "markdown",
   "metadata": {
    "slideshow": {
     "slide_type": "skip"
    }
   },
   "source": [
    "# Summary\n",
    "\n",
    "In this lecture, we saw the following.\n",
    "\n",
    "* How adding a bit of friction changes the equation of motion of a free oscillator and the shape of the solutions, but how \"adopt-an-exponential\" still works fine.\n",
    "* How there are three regimes when there is friction: underdamped (keeps oscillating but decays), overdamped (does not oscillate; friction is so large that the system barely moves, takes a while to decay), and critical (in-between case; fastest return to zero).\n",
    "* Definition of the $Q$-factor, which compares how fast a system oscillates (if it oscillates) vs. how fast it decays.\n",
    "* Driving an oscillator yields a response at the driving frequency, not the natural frequency.\n",
    "    The amplitude is maximum when the two match (actually, without damping, it diverges), and there might be phase shifts between forcing a response."
   ]
  }
 ],
 "metadata": {
  "anaconda-cloud": {},
  "celltoolbar": "Slideshow",
  "kernelspec": {
   "display_name": "Python 3",
   "language": "python",
   "name": "python3"
  },
  "language_info": {
   "codemirror_mode": {
    "name": "ipython",
    "version": 3
   },
   "file_extension": ".py",
   "mimetype": "text/x-python",
   "name": "python",
   "nbconvert_exporter": "python",
   "pygments_lexer": "ipython3",
   "version": "3.8.10"
  }
 },
 "nbformat": 4,
 "nbformat_minor": 4
}
