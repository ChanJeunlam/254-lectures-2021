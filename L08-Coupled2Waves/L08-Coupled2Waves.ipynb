{
 "cells": [
  {
   "cell_type": "raw",
   "metadata": {
    "raw_mimetype": "text/latex",
    "slideshow": {
     "slide_type": "skip"
    }
   },
   "source": [
    "\\DefineVerbatimEnvironment{Verbatim}{Verbatim}{fontsize=\\scriptsize}\n",
    "\n",
    "\\newcommand{\\bnabla}{\\boldsymbol{\\nabla}}\n",
    "\\newcommand{\\eexp}[1]{\\text{e}^{#1}}\n",
    "\\newcommand{\\di}[0]{\\text{d}}\n",
    "\\newcommand{\\bs}[1]{\\boldsymbol{#1}}\n",
    "\\newcommand{\\ode}[2]{\\frac{\\di {#1}}{\\di {#2}}}\n",
    "\\newcommand{\\oden}[3]{\\frac{\\di^{#1} {#2}}{\\di {#3}^{#1}}}\n",
    "\\newcommand{\\odel}[2]{\\di {#1}/\\di {#2}}\n",
    "\\newcommand{\\odeln}[3]{\\di^{#1} {#2}/\\di {#3}^{#1}}\n",
    "\\newcommand{\\pde}[2]{\\frac{\\partial {#1}}{\\partial {#2}}}\n",
    "\\newcommand{\\pden}[3]{\\frac{\\partial^{#1} {#2}}{\\partial {#3}^{#1}}}\n",
    "\\newcommand{\\pdel}[2]{\\partial_{#2} {#1}}\n",
    "\\newcommand{\\pdenl}[3]{\\partial^{#1}_{#3} {#2}}\n",
    "\\newcommand{\\divr}[1]{\\vec\\nabla \\cdot {#1}}\n",
    "\\newcommand{\\divrb}[1]{\\boldsymbol{\\nabla} \\cdot {#1}}\n",
    "\\newcommand{\\grad}[1]{\\vec \\nabla {#1}}\n",
    "\\newcommand{\\gradb}[1]{\\boldsymbol\\nabla {#1}}\n",
    "\\newcommand{\\curl}[1]{\\vec\\nabla \\times {#1}}\n",
    "\\newcommand{\\curlb}[1]{\\boldsymbol{\\nabla}\\times\\boldsymbol{#1}}\n",
    "\\newcommand{\\lapl}[0]{\\vec\\nabla^2}\n",
    "\\newcommand{\\laplb}[0]{\\boldsymbol{\\nabla}^2}\n",
    "\\newcommand{\\cplxi}[0]{\\text{i}}\n",
    "\\newcommand{\\unit}[1]{\\mathbf{\\hat{#1}}}\n",
    "\\newcommand{\\red}[1]{\\textcolor{red}{#1}}\n",
    "\\newcommand{\\blue}[1]{\\textcolor{blue}{#1}}\n",
    "\\newcommand{\\mage}[1]{\\textcolor{magenta}{#1}}\n",
    "\\newcommand{\\with}[0]{\\quad\\text{with}\\quad}\n",
    "\\newcommand{\\thrfor}[0]{\\quad\\Rightarrow\\quad}\n",
    "\\newcommand{\\andeq}[0]{\\quad\\text{and}\\quad}\n",
    "\\newcommand{\\oreq}[0]{\\quad\\text{or}\\quad}\n",
    "\\newcommand{\\stirling}[2]{\\genfrac{[}{]}{0pt}{}{#1}{#2}}"
   ]
  },
  {
   "cell_type": "markdown",
   "metadata": {
    "slideshow": {
     "slide_type": "skip"
    }
   },
   "source": [
    "$\\newcommand{\\bnabla}{\\boldsymbol{\\nabla}}$\n",
    "$\\newcommand{\\eexp}[1]{\\text{e}^{#1}}$\n",
    "$\\newcommand{\\di}[0]{\\text{d}}$\n",
    "$\\newcommand{\\bs}[1]{\\boldsymbol{#1}}$\n",
    "$\\newcommand{\\ode}[2]{\\frac{\\di {#1}}{\\di {#2}}}$\n",
    "$\\newcommand{\\oden}[3]{\\frac{\\di^{#1} {#2}}{\\di {#3}^{#1}}}$\n",
    "$\\newcommand{\\odel}[2]{\\di {#1}/\\di {#2}}$\n",
    "$\\newcommand{\\odeln}[3]{\\di^{#1} {#2}/\\di {#3}^{#1}}$\n",
    "$\\newcommand{\\pde}[2]{\\frac{\\partial {#1}}{\\partial {#2}}}$\n",
    "$\\newcommand{\\pden}[3]{\\frac{\\partial^{#1} {#2}}{\\partial {#3}^{#1}}}$\n",
    "$\\newcommand{\\pdel}[2]{\\partial_{#2} {#1}}$\n",
    "$\\newcommand{\\pdenl}[3]{\\partial^{#1}_{#3} {#2}}$\n",
    "$\\newcommand{\\divr}[1]{\\vec\\nabla \\cdot {#1}}$\n",
    "$\\newcommand{\\divrb}[1]{\\boldsymbol{\\nabla} \\cdot {#1}}$\n",
    "$\\newcommand{\\grad}[1]{\\vec \\nabla {#1}}$\n",
    "$\\newcommand{\\gradb}[1]{\\boldsymbol\\nabla {#1}}$\n",
    "$\\newcommand{\\curl}[1]{\\vec\\nabla \\times {#1}}$\n",
    "$\\newcommand{\\curlb}[1]{\\boldsymbol{\\nabla}\\times\\boldsymbol{#1}}$\n",
    "$\\newcommand{\\lapl}[0]{\\vec\\nabla^2}$\n",
    "$\\newcommand{\\laplb}[0]{\\boldsymbol{\\nabla}^2}$\n",
    "$\\newcommand{\\cplxi}[0]{\\text{i}}$\n",
    "$\\newcommand{\\unit}[1]{\\mathbf{\\hat{#1}}}$\n",
    "$\\newcommand{\\thrfor}[0]{\\quad\\Rightarrow\\quad}$\n",
    "$\\newcommand{\\red}[1]{\\textcolor{red}{#1}}$\n",
    "$\\newcommand{\\blue}[1]{\\textcolor{blue}{#1}}$\n",
    "$\\newcommand{\\mage}[1]{\\textcolor{magenta}{#1}}$\n",
    "$\\newcommand{\\with}[0]{\\quad\\text{with}\\quad}$\n",
    "$\\newcommand{\\thrfor}[0]{\\quad\\Rightarrow\\quad}$\n",
    "$\\newcommand{\\andeq}[0]{\\quad\\text{and}\\quad}$\n",
    "$\\newcommand{\\oreq}[0]{\\quad\\text{or}\\quad}$\n",
    "$\\newcommand{\\stirling}[2]{\\genfrac{[}{]}{0pt}{}{#1}{#2}}$"
   ]
  },
  {
   "cell_type": "code",
   "execution_count": null,
   "metadata": {
    "raw_mimetype": "text/x-python",
    "slideshow": {
     "slide_type": "skip"
    }
   },
   "outputs": [],
   "source": [
    "from IPython.display import Image, display, YouTubeVideo, HTML\n",
    "import numpy as np\n",
    "import matplotlib.pyplot as plt\n",
    "from matplotlib import interactive, rcParams, animation\n",
    "from ipywidgets import interact, FloatSlider, fixed\n",
    "interactive(True)\n",
    "rcParams['figure.dpi'] = 100  # for crisper figures later"
   ]
  },
  {
   "cell_type": "markdown",
   "metadata": {
    "slideshow": {
     "slide_type": "skip"
    }
   },
   "source": [
    "*Readings:*\n",
    "\n",
    "* *French 5, starting at \"Many coupled Oscillators\" (p.135). As often, you may have to go back-and-forth in the text. I will use the example of \"Longitudinal waves\" (starts on p.144) in the first part of this lecture, but will apply some of the conclusions that are being described between pp.135-144.*\n",
    "* *French 6, until p.168.*\n",
    "\n",
    "**Note:** these lecture notes come with a lot of animations. If you use Jupyter, you can re-create them all from the notebook.\n",
    "If instead you read the pdf notes, I saved them all in .mp4 format and included them in the .zip archive."
   ]
  },
  {
   "cell_type": "markdown",
   "metadata": {
    "slideshow": {
     "slide_type": "skip"
    }
   },
   "source": [
    "# Expectations"
   ]
  },
  {
   "cell_type": "markdown",
   "metadata": {
    "slideshow": {
     "slide_type": "subslide"
    }
   },
   "source": [
    "## Remember\n",
    "\n",
    "* What the concept of a continuum approximation means\n",
    "* A wave can be viewed as an infinite collection of discrete oscillators\n",
    "* The motion of oscillators in a normal mode can be viewed as discrete samples of a continuous wave mode\n",
    "* **The wave equation!!!**\n",
    "* What the phase speed is.\n",
    "* The meaning and definitions of the wavenumbers $k_n$, angular frequencies $\\omega_n$, frequencies $\\nu_n$ and wavelengths $\\lambda_n$."
   ]
  },
  {
   "cell_type": "markdown",
   "metadata": {
    "slideshow": {
     "slide_type": "subslide"
    }
   },
   "source": [
    "## Understand\n",
    "\n",
    "* The meaning of the first three points under \"Remember\""
   ]
  },
  {
   "cell_type": "markdown",
   "metadata": {
    "slideshow": {
     "slide_type": "subslide"
    }
   },
   "source": [
    "## Apply\n",
    "\n",
    "* How we used separation of variables for waves is a classic.\n",
    "* Apply boundary conditions to standing wave modes.\n",
    "* Anything that appears in the worked examples, tutorials and problem sets."
   ]
  },
  {
   "cell_type": "markdown",
   "metadata": {
    "slideshow": {
     "slide_type": "skip"
    }
   },
   "source": [
    "# Introduction"
   ]
  },
  {
   "cell_type": "markdown",
   "metadata": {
    "slideshow": {
     "slide_type": "skip"
    }
   },
   "source": [
    "In this lecture, we transition from discrete, coupled oscillators to continuous waves, and describe some of their properties.\n",
    "We have seen that when two oscillators were coupled, i.e., the motion of one oscillator was influenced by the motion of the other, and any motion that ensued could be thought of as a linear combination of the two modes.\n",
    "The features of these modes could be found by solving for the eigenmodes of the matrix, corresponding to the $2\\times2$ linear system of equations of the two oscillators."
   ]
  },
  {
   "cell_type": "markdown",
   "metadata": {
    "slideshow": {
     "slide_type": "skip"
    }
   },
   "source": [
    "Here, we are about to see that if a large number, and then an infinite number of oscillators are coupled, the number of orthogonal modes of motion is not two, but $N$, then infinite.\n",
    "This model can be thought of as a model for a continuous medium, in which waves can propagate.\n",
    "The superposition of this infinite number of modes can lead to an infinite number of patterns that propagate: waves.\n",
    "Once again, each of these modes satisfies the same equation as that of a simple harmonic oscillator."
   ]
  },
  {
   "cell_type": "markdown",
   "metadata": {
    "slideshow": {
     "slide_type": "skip"
    }
   },
   "source": [
    "It is the circle of life, PHY254-style: from oscillators to waves, and back to oscillators."
   ]
  },
  {
   "cell_type": "markdown",
   "metadata": {
    "slideshow": {
     "slide_type": "skip"
    }
   },
   "source": [
    "The progression will be the following: \n",
    "\n",
    "1. First, we will describe a simpler system of coupled oscillators, namely, two masses and three springs, constrained to move in the longitudinal direction.\n",
    "    I choose this setup simply because the equations are more simple to write down.\n",
    "2. Second, we will start lining up the masses, three, then $N$.\n",
    "    We will **not** attempt an analytical solution just yet, but rather, we will ask NumPy to solve the problem for us. French is a lot more analytical, but his book was written in 1971 and he didn't have a choice.\n",
    "3. Then, we will introduce the so-called \"continuum approximation\", where we write that the oscillators are so densely packed that we can start talking about a continuous medium.\n",
    "4. Finally, we will go fully continuous and describe waves on a string, which you saw in 1st year. As usual, we will try to be a little more quantitative, and connect with the concept of modes we saw for coupled oscillators."
   ]
  },
  {
   "cell_type": "markdown",
   "metadata": {
    "slideshow": {
     "slide_type": "skip"
    }
   },
   "source": [
    "# Masses Coupled by Springs"
   ]
  },
  {
   "cell_type": "markdown",
   "metadata": {
    "slideshow": {
     "slide_type": "slide"
    }
   },
   "source": [
    "## Two masses and three springs\n",
    "\n",
    "![](CoupledMassesSprings.png)"
   ]
  },
  {
   "cell_type": "markdown",
   "metadata": {
    "slideshow": {
     "slide_type": "subslide"
    }
   },
   "source": [
    "Let all masses and stiffnesses be equal as well. This is a simpler version of the case you saw in Tutorial 7.\n",
    "Equations are:\n",
    "$$ m \\ddot x_A = -k x_A + k(x_B - x_A) = k x_B - 2 k x_A, $$\n",
    "$$ m \\ddot x_B = -k (x_B - x_A) - kx_B = k x_A - 2 k x_B. $$"
   ]
  },
  {
   "cell_type": "markdown",
   "metadata": {
    "slideshow": {
     "slide_type": "fragment"
    }
   },
   "source": [
    "Dividing by $m$,\n",
    "$$ \\ddot x_A = \\omega_s^2 (x_B - 2 x_A), $$\n",
    "$$ \\ddot x_B = \\omega_s^2 (x_A - 2 x_B). $$"
   ]
  },
  {
   "cell_type": "markdown",
   "metadata": {
    "slideshow": {
     "slide_type": "subslide"
    }
   },
   "source": [
    "Recall the definition of the normal modes: **normal modes are modes for which all elements of the coupled system oscillate at the same, unique frequency.**\n",
    "Therefore, we look for solutions of the form\n",
    "$$ \\vec X = C\\vec Y \\cos(\\omega t + \\phi). $$"
   ]
  },
  {
   "cell_type": "markdown",
   "metadata": {
    "slideshow": {
     "slide_type": "subslide"
    }
   },
   "source": [
    "As before, solving for the eigenvalue problem will yield the $\\omega$'s and $\\vec Y$'s, while the $C$'s and $\\phi$'s are determined in a second time, with the initial conditions.\n",
    "\n",
    "The previous system of equations becomes\n",
    "\\begin{align}\n",
    "\\omega_s^2 (2x_A - x_B) & = \\omega^2 x_A, \\label{eq:ddotxA}\\\\\n",
    "\\omega_s^2 (2x_B - x_A) & = \\omega^2 x_B, \\label{eq:ddotxB}\n",
    "\\end{align}\n",
    "which has the form of an eigenproblem."
   ]
  },
  {
   "cell_type": "markdown",
   "metadata": {
    "slideshow": {
     "slide_type": "subslide"
    }
   },
   "source": [
    "Indeed, defining \n",
    "$$ M^{-1}K = \\omega_s^2 \\begin{bmatrix}\n",
    "                            2 & -1 \\\\\n",
    "                            -1 & 2\n",
    "                        \\end{bmatrix}, $$\n",
    "We can write the above system of equations as\n",
    "$$ M^{-1}K \\vec X = \\omega^2 \\vec X. $$"
   ]
  },
  {
   "cell_type": "markdown",
   "metadata": {
    "slideshow": {
     "slide_type": "subslide"
    }
   },
   "source": [
    "We find the eigenfrequencies by finding the roots of the characteristic polynomial, i.e., of\n",
    "$$ \\det(M^{-1} K - \\omega^2 I_2) = 0 = (2\\omega_s^2 - \\omega^2)^2 - \\omega_s^4 = (\\omega^2 - \\omega_s^2)(\\omega^2 - 3\\omega^2_s). $$"
   ]
  },
  {
   "cell_type": "markdown",
   "metadata": {
    "slideshow": {
     "slide_type": "-"
    }
   },
   "source": [
    "Thus, the eigenfrequencies are $\\omega_1=\\omega_s$ and $\\omega_2 = \\sqrt{3}\\omega_s$."
   ]
  },
  {
   "cell_type": "markdown",
   "metadata": {
    "slideshow": {
     "slide_type": "skip"
    }
   },
   "source": [
    "The mode, oscillating at $\\omega_1= \\omega_s$ can be qualified as \"antisymmetric\" again. It is the mode for which both masses oscillate in sync, and the central spring is neither stretched nor compressed. Therefore, only the external springs stretch or compress, and their natural frequencies of oscillations are simply $\\omega_s$."
   ]
  },
  {
   "cell_type": "markdown",
   "metadata": {
    "slideshow": {
     "slide_type": "skip"
    }
   },
   "source": [
    "By process of elimination, and because the system is neatly symmetric around the central $x$, we can surmise that the other mode, oscillating at $\\omega_2 = \\sqrt3 \\omega_s$, is a symmetric mode of motion, the motion of both masses being symmetric with respect to the central plane."
   ]
  },
  {
   "cell_type": "markdown",
   "metadata": {
    "slideshow": {
     "slide_type": "subslide"
    }
   },
   "source": [
    "![The symmetric normal mode](spring_sym.gif)\n",
    "\n",
    "![The antisymmetric normal mode.](spring_asyn.gif)"
   ]
  },
  {
   "cell_type": "markdown",
   "metadata": {
    "slideshow": {
     "slide_type": "skip"
    }
   },
   "source": [
    "Defining $\\vec Y = [a, b]^T$, we can find the orientation of the eigenvectors by replacing $x_A$ and $x_B$ by $a$ and $b$ in the system of equations \\eqref{eq:ddotxA}-\\eqref{eq:ddotxB}, or in only one of the equations since they are redundant in a $2\\times 2$ system.\n",
    "\n",
    "In the case $\\omega = \\omega_s$, equation \\eqref{eq:ddotxA} becomes $a - b = 0$, or $a =b$.\n",
    "It is indeed the antisymmetric mode.\n",
    "Normalizing to have $\\|\\vec Y_1\\| = 1$ (*which I do, but isn't necessary!*) yields $a = b = 1/\\sqrt{2}$.\n",
    "\n",
    "In the case $\\omega = \\sqrt{3}\\omega_s$, equation \\eqref{eq:ddotxA} becomes $a = -b$. It is indeed the symmetric mode.\n",
    "Normalizing to have $\\|\\vec Y_2\\| = 1$ yields $a = -b = 1/\\sqrt{2}$."
   ]
  },
  {
   "cell_type": "markdown",
   "metadata": {
    "slideshow": {
     "slide_type": "subslide"
    }
   },
   "source": [
    "Any solution of the coupled oscillator system is therefore\n",
    "$$ \\vec X = \\frac{C_1}{\\sqrt{2}}\\begin{bmatrix}\n",
    "                    1 \\\\ 1\n",
    "               \\end{bmatrix}\\cos(\\omega_s t + \\phi_1) + \n",
    "            \\frac{C_2}{\\sqrt{2}}\\begin{bmatrix}\n",
    "                    1 \\\\ -1\n",
    "            \\end{bmatrix}\\cos(\\sqrt3\\omega_s t + \\phi_2).$$"
   ]
  },
  {
   "cell_type": "markdown",
   "metadata": {
    "slideshow": {
     "slide_type": "skip"
    }
   },
   "source": [
    "Any problem would be completed by using initial conditions in order to solve for the $C$'s and $\\phi$'s.\n",
    "I am only interested in the shape of the normal modes, so, I won't do it."
   ]
  },
  {
   "cell_type": "markdown",
   "metadata": {
    "slideshow": {
     "slide_type": "slide"
    }
   },
   "source": [
    "## $N$ masses and $N+1$ springs"
   ]
  },
  {
   "cell_type": "markdown",
   "metadata": {
    "slideshow": {
     "slide_type": "skip"
    }
   },
   "source": [
    "Up until now, we have only looked at two oscillators, but all the qualitative results apply to any number of oscillators."
   ]
  },
  {
   "cell_type": "markdown",
   "metadata": {
    "slideshow": {
     "slide_type": "fragment"
    }
   },
   "source": [
    "With three masses $A$, $B$ and $C$, we would have\n",
    "$$ m \\ddot x_A = -k x_A + k(x_B - x_A), $$\n",
    "$$ m \\ddot x_B = -k (x_B - x_A) + k(x_C-x_B), $$\n",
    "$$ m \\ddot x_C = -k (x_C - x_B) - kx_C. $$"
   ]
  },
  {
   "cell_type": "markdown",
   "metadata": {
    "slideshow": {
     "slide_type": "subslide"
    }
   },
   "source": [
    "And with $N$ masses, we would have (I now index the masses with numbers instead of letters)\n",
    "\\begin{align}\n",
    "m \\ddot x_1 & = -k x_1 + k(x_2 - x_1) = - 2 k x_1 + k x_2, \\nonumber \\\\\n",
    "m \\ddot x_n & = -k (x_{n} - x_{n-1}) + k(x_{n+1} - x_{n}) = k(x_{n+1} -2x_n + x_{n-1})\\quad\\text{for}\\quad 1<n<N,  \\label{eq:nthmass}\\\\\n",
    "m \\ddot x_N & = -k (x_N - x_{N-1}) - kx_N = -2k x_N + k x_{N-1}.\\nonumber\n",
    "\\end{align}"
   ]
  },
  {
   "cell_type": "markdown",
   "metadata": {
    "slideshow": {
     "slide_type": "subslide"
    }
   },
   "source": [
    "After division by $m$, we can turn this system into an $N \\times N$ eigenvalue problem\n",
    "$$ (M^{-1}K - \\omega^2 I_N) \\vec X = 0, $$\n",
    "with\n",
    "$$ M^{-1}K = \\omega_s^2\\begin{bmatrix}\n",
    "                 2      & -1     & 0      & \\dots  &        &        & 0 \\\\\n",
    "                 -1     & 2      & -1     & 0      & \\dots  &        & 0 \\\\\n",
    "                 0      & \\ddots & \\ddots & \\ddots &        &        & \\\\\n",
    "                 \\vdots & 0      & -1     & 2      & -1     & 0      & \\\\\n",
    "                        &        &        & \\ddots & \\ddots & \\ddots & \\\\\n",
    "                 \\\\\n",
    "                 0      & \\dots  &        &        & 0      & -1     & 2\n",
    "             \\end{bmatrix}.\n",
    "$$"
   ]
  },
  {
   "cell_type": "markdown",
   "metadata": {
    "slideshow": {
     "slide_type": "skip"
    }
   },
   "source": [
    "This matrix is actually simple enough that we could find the eigenvalues analytically (French does it if you're interested).\n",
    "My intention, however, is to show you that from a numerical point of view, a $3\\times 3$ matrix and a $N\\times N$ matrix are as hard to solve as each other as long as one understands how to use the methods of linear algebra.\n",
    "In the previous lecture, I used SymPy, Python's main symbolic math package, but we quickly found that it had limitations.\n",
    "Let us switch to the more familiar NumPy, which only understands numbers and not symbols, but does it matter?"
   ]
  },
  {
   "cell_type": "code",
   "execution_count": null,
   "metadata": {
    "slideshow": {
     "slide_type": "subslide"
    }
   },
   "outputs": [],
   "source": [
    "# We already imported NumPy, but it is useful to import\n",
    "# NumPy's linear algebra functions separately.\n",
    "import numpy.linalg as la"
   ]
  },
  {
   "cell_type": "code",
   "execution_count": null,
   "metadata": {
    "slideshow": {
     "slide_type": "subslide"
    }
   },
   "outputs": [],
   "source": [
    "def find_EVs(N):\n",
    "    \"\"\" This function takes in an integer N and computes the eigenvalues and \n",
    "    eigenvectors for N masses connected by 3 springs between two walls.\n",
    "    For simplicity, we set omega_s = 1 rad/s because it multiplies everything\n",
    "    \"\"\"\n",
    "    # I will fill the matrix in a somewhat clumsy way, for pedagogical reasons\n",
    "    # However, there are functions to create tridiagonal matrices automatically\n",
    "    iMK = np.zeros((N, N))  # creates a NxN square matrix filled with zeros\n",
    "    iMK[0, 0] = 2.  # top left-hand corner\n",
    "    iMK[0 , 1] = -1  # top line, one to the right\n",
    "    iMK[-1, -1] = 2  # bottom right-hand corner\n",
    "    iMK[-1, -2] = -1  # bottom line, one to the left\n",
    "    if N > 2:\n",
    "        for n in range(1, N-1):  # this loop makes filling the matrix automatic\n",
    "            # we loop from the second to the penultimate line, which are all the same\n",
    "            iMK[n, n] = 2  # diagonal terms\n",
    "            iMK[n, n-1] = -1  # lower diagonal\n",
    "            iMK[n, n+1] = -1  # upper diagonal\n",
    "            \n",
    "    print(iMK)  # to visualize the matrix we are working with\n",
    "    \n",
    "    eigvals, eigvecs = la.eig(iMK) \n",
    "    \n",
    "    return eigvals, eigvecs  # and that's it!"
   ]
  },
  {
   "cell_type": "code",
   "execution_count": null,
   "metadata": {
    "slideshow": {
     "slide_type": "subslide"
    }
   },
   "outputs": [],
   "source": [
    "N = 2\n",
    "eigvals, eigvecs = find_EVs(N)"
   ]
  },
  {
   "cell_type": "code",
   "execution_count": null,
   "metadata": {
    "slideshow": {
     "slide_type": "subslide"
    }
   },
   "outputs": [],
   "source": [
    "print(eigvals)"
   ]
  },
  {
   "cell_type": "code",
   "execution_count": null,
   "metadata": {},
   "outputs": [],
   "source": [
    "eigfreqs = np.sqrt(eigvals)\n",
    "print(eigfreqs)"
   ]
  },
  {
   "cell_type": "code",
   "execution_count": null,
   "metadata": {},
   "outputs": [],
   "source": [
    "print(eigvecs)"
   ]
  },
  {
   "cell_type": "markdown",
   "metadata": {
    "slideshow": {
     "slide_type": "notes"
    }
   },
   "source": [
    "The `numpy.linalg.eig` function returns an output, that is different from the output of the SymPy `eigenvects` method we used in the last lecture:\n",
    "\n",
    "1. the first array lists all eigenvalues (repeated eigenvalues are simply written multiple times).\n",
    "2. the second array provides the corresponding displacement amplitudes of each mass (the so-called polarization relations of each mode). The way it is displayed above, each column (`eigvecs[:, i]`) corresponds to the coefficients of the series of masses for one mode (e.g., all $a_n$ or $b_n$ for mode $n$), while each line (`eigvecs[i, :]`) corresponds to the coefficients of the series of modes for one mass (e.g., all $a_n$, $1 \\leq n \\leq N$, when there are $N$ modes)."
   ]
  },
  {
   "cell_type": "markdown",
   "metadata": {
    "slideshow": {
     "slide_type": "skip"
    }
   },
   "source": [
    "It is still a bit obscure at this point, and plotting the results will help.\n",
    "But before that, I want to sort the eigenfrequencies from lowest to highest, because ```numpy.linalg.eig``` does not necessarily do it."
   ]
  },
  {
   "cell_type": "code",
   "execution_count": null,
   "metadata": {
    "slideshow": {
     "slide_type": "subslide"
    }
   },
   "outputs": [],
   "source": [
    "print(\"Sequence that would sort the eigenfrequencies:\")\n",
    "seq = np.argsort(eigfreqs)\n",
    "print(seq)\n",
    "\n",
    "print()\n",
    "print(\"Sorted eigenfrequencies:\")\n",
    "print(eigfreqs[seq])\n",
    "\n",
    "print()\n",
    "print(\"and the corresponding mass position amplitudes are\")\n",
    "for ii in range(N):\n",
    "    print(eigvecs[:, seq[ii]])"
   ]
  },
  {
   "cell_type": "code",
   "execution_count": null,
   "metadata": {
    "slideshow": {
     "slide_type": "subslide"
    }
   },
   "outputs": [],
   "source": [
    "# Various quantities\n",
    "t_end = 2.*np.pi/eigfreqs.min()  # time array spans one longest eigenperiod\n",
    "n_frames = 100  # number of frames for animation\n",
    "time = np.linspace(0., t_end, n_frames)  # time array\n",
    "max_amp = abs(eigvecs.max())  # maximum displacement of any mass in any eigenmode\n",
    "L_inter = 3*max_amp  # distance between the masses; this makes sure that it is enough\n",
    "L_tot = L_inter*float(N+1)  # total length between the two walls;\n",
    "rest_positions = np.arange(L_inter, (N+0.5)*L_inter, L_inter)  # positions at rest\n",
    "\n",
    "# prepping the coordinates on the plot: for each time step, we will plot the positions\n",
    "# on the x axis and the mode number on the y axis\n",
    "x_positions = np.zeros((N, N))  # N positions for N modes\n",
    "y_modes = np.zeros((N, N))  # N positions for N modes\n",
    "for mode_number in range(1, N+1):\n",
    "    y_modes[mode_number-1, :] = mode_number\n",
    "\n",
    "imagelist = []  # list of frames to eventually animate\n",
    "\n",
    "fig = plt.figure()\n",
    "ax = plt.gca()\n",
    "ax.set_xlim([0., L_tot])\n",
    "ax.set_ylim([0., N+1])\n",
    "ax.set_xticks(rest_positions)\n",
    "ax.set_xlabel('positions')\n",
    "ax.set_yticks(range(1, N+1))\n",
    "ax.set_ylabel('mode number')\n",
    "ax.grid()\n",
    "for t in time:\n",
    "    # We loop over time to animate the masses\n",
    "    for mode_number in range(1, N+1):\n",
    "        ii = seq[mode_number-1]  # this will select the correct mode in the list\n",
    "        x_positions[mode_number-1, :] = (rest_positions\n",
    "                                         + eigvecs[:, ii]*np.cos(eigfreqs[ii]*t))\n",
    "    im = plt.scatter(x_positions, y_modes, c=y_modes, cmap='copper')\n",
    "    imagelist.append([im])\n",
    "    \n",
    "ani = animation.ArtistAnimation(fig, imagelist, interval=50, blit=True, repeat_delay=1000)\n",
    "plt.close()"
   ]
  },
  {
   "cell_type": "code",
   "execution_count": null,
   "metadata": {
    "scrolled": false,
    "slideshow": {
     "slide_type": "subslide"
    }
   },
   "outputs": [],
   "source": [
    "# Show the animation\n",
    "HTML(ani.to_html5_video())"
   ]
  },
  {
   "cell_type": "code",
   "execution_count": null,
   "metadata": {
    "slideshow": {
     "slide_type": "skip"
    }
   },
   "outputs": [],
   "source": [
    "# Save the animation\n",
    "ani.save('masses_for_{0:02d}_modes.mp4'.format(N), dpi=100)"
   ]
  },
  {
   "cell_type": "markdown",
   "metadata": {
    "slideshow": {
     "slide_type": "skip"
    }
   },
   "source": [
    "The last command saves the animation as a ```.mp4``` video file. I saved a few and uploaded them onto Quercus."
   ]
  },
  {
   "cell_type": "markdown",
   "metadata": {
    "slideshow": {
     "slide_type": "skip"
    }
   },
   "source": [
    "A few comments.\n",
    "\n",
    "* For some modes, some masses don't move, or hardly at all. Likewise, some masses move symmetrically around points that would be associated with zero velocity if they had a mass on them. Such points are called \"nodes\". In-between nodes are locations where the velocities seem larger. These points are called \"antinodes\". We will be able to visualize them better with waves on a string.\n",
    "* The distance between two nodes corresponds to half a wavelength: every two nodes, the motion is periodic (spatial periodicity).\n",
    "* The larger the mode number (or the frequency) is, the more nodes there are, or equivalently, the shorter the wavelengths are. As a matter of fact, the first mode has zero nodes, the second mode has one node, and the $n^{th}$ has $n-1$ nodes. This is a general feature of standing waves, again better visualized with waves on a string.\n",
    "* Modes with more nodes are called \"higher modes\", those with less nodes are called \"low\", or \"grave\". The terminology comes from sound waves. Sound waves with larger wavelengths sound indeed graver (lower frequency) than sound waves with smaller wavelengths (higher frequencies).\n",
    "\n"
   ]
  },
  {
   "cell_type": "markdown",
   "metadata": {
    "slideshow": {
     "slide_type": "skip"
    }
   },
   "source": [
    "# The continuum approximation\n",
    "\n",
    "## Masses tend to infinity\n",
    "\n",
    "In the previous animations, you saw that as the number of modes increased, the behaviour looked more and more continuous. For example, take a low mode in a simulation with several modes (e.g., take mode 1 or 2 in a simulation with $N>10$): all masses look as if they are just sample points in a more continuous system. It is even more striking in the video below about many ($>40$?) horizontal pendulums connected by thin pieces of metal acting as torsional springs (also at https://youtu.be/Ki70ShYFtmA)."
   ]
  },
  {
   "cell_type": "code",
   "execution_count": null,
   "metadata": {
    "slideshow": {
     "slide_type": "slide"
    }
   },
   "outputs": [],
   "source": [
    "YouTubeVideo('Ki70ShYFtmA', width=560, height=315)"
   ]
  },
  {
   "cell_type": "markdown",
   "metadata": {
    "slideshow": {
     "slide_type": "skip"
    }
   },
   "source": [
    "So, you have discrete oscillators, and you can see their modes appearing by forcing them at their resonant frequency, and they really look like modes of waves on a string! \n",
    "\n",
    "To further drive my point home, let me animate our chain of masses and spring again, but I will limit myself to one mode only, and I will plot the $x$-position of the masses for that given mode on the $y$-axis."
   ]
  },
  {
   "cell_type": "code",
   "execution_count": null,
   "metadata": {
    "scrolled": false,
    "slideshow": {
     "slide_type": "subslide"
    }
   },
   "outputs": [],
   "source": [
    "def plot_one_mode(NFs, EVs, m):\n",
    "    \"\"\" INPUTS:\n",
    "    NFs, EVs: the normal frequencies and eigenvectors as computed before\n",
    "    m: which mode we want to animate (integer)\n",
    "    this way of doing an nimation is more directly taken from\n",
    "    https://matplotlib.org/stable/api/animation_api.html\n",
    "    \"\"\"\n",
    "\n",
    "    N = len(NFs)  # the total number of masses is also the number of frequencies\n",
    "    x_n = np.zeros(N + 2)  # N+2 positions; +2 to add the left and right walls\n",
    "\n",
    "    seq = np.argsort(NFs)  # re-do it to limit input/output\n",
    "    mm = seq[m-1]  # this will select the correct mode in the list\n",
    "    Amp = abs(EVs[:, mm]).max()  # amplitude of the mode, more or less\n",
    "    t_end = 2*np.pi/NFs.min()  # one period associated with the lowest frequency\n",
    "    time = np.arange(0., t_end, t_end/200)  # our time array\n",
    "\n",
    "    rest_positions = range(N+2)  # for our x-axis\n",
    "\n",
    "    imagelist = []  # list of frames to eventually animate\n",
    "\n",
    "    fig, ax = plt.subplots(figsize=(6, 3))\n",
    "    ax.grid()\n",
    "    ln, = plt.plot([], [], 'o-')\n",
    "\n",
    "    def init():\n",
    "        ax.set_xlim(0, N+1)\n",
    "        ax.set_ylim(-1.1*Amp, 1.1*Amp)\n",
    "        ax.set_xlabel('$n$, the mass number')\n",
    "        ax.set_ylabel('$y_n$, the deviation from rest position')\n",
    "        ax.set_title('Mode number {0:d} for {1:d} masses'.format(m, N))\n",
    "        plt.tight_layout()\n",
    "        return ln,\n",
    "\n",
    "    def update(frame):\n",
    "        for n in range(N):  # the mass index; we leave the ends attached\n",
    "            x_n[n+1] = EVs[n, mm]*np.cos(NFs[mm]*frame)\n",
    "        ln.set_data(rest_positions, x_n)\n",
    "        return ln,\n",
    "\n",
    "    ani = animation.FuncAnimation(fig, update, frames=time, init_func=init, interval=100, blit=True)\n",
    "    \n",
    "    plt.close()\n",
    "\n",
    "    return ani"
   ]
  },
  {
   "cell_type": "code",
   "execution_count": null,
   "metadata": {
    "slideshow": {
     "slide_type": "subslide"
    }
   },
   "outputs": [],
   "source": [
    "# Show the animation\n",
    "mode = 2\n",
    "ani2 = plot_one_mode(eigfreqs, eigvecs, mode)\n",
    "HTML(ani2.to_html5_video())"
   ]
  },
  {
   "cell_type": "code",
   "execution_count": null,
   "metadata": {
    "slideshow": {
     "slide_type": "skip"
    }
   },
   "outputs": [],
   "source": [
    "# Save the animation\n",
    "ani2.save('mode_{0:02d}_for_{1:02d}_masses.mp4'.format(mode, N), dpi=100)"
   ]
  },
  {
   "cell_type": "markdown",
   "metadata": {
    "slideshow": {
     "slide_type": "skip"
    }
   },
   "source": [
    "In this section, we make the connection with continuous waves.\n",
    "\n",
    "Imagine that there are now an extremely large number $N$ of masses, and that they are aligned over a distance $L$.\n",
    "The distance $a$ between two masses is therefore $a = L/(N+1)$, with $a\\ll L$.\n",
    "You can see this as a model for longitudinal vibrations in a one-dimensional crystal.\n",
    "The wavelengths of such waves in crystals are typically on the order of a metre, while the distance between atoms is typically on the order of $10^{-10}$ m.\n",
    "This, and the animation of modes we just saw, suggests that we could try to find a continuous function on $[0, L]$ to represent the deviations from rest of each mass, but we need to introduce a few new notations first, otherwise $x$ will mean too many things (the length along the chain, the deviation from rest position...)."
   ]
  },
  {
   "cell_type": "markdown",
   "metadata": {
    "slideshow": {
     "slide_type": "skip"
    }
   },
   "source": [
    "Let\n",
    "\n",
    "* $x$ be the *total* distance from the beginning of the chain,\n",
    "* $x_n(t)$ the *total* distance of mass number $n$ from the beginning of the chain,\n",
    "* $x_{n0} = na$ the rest position of mass number $n$, with $1\\leq n \\leq N$,\n",
    "* $y_n(t) = x_{n}(t) - x_{n0}$.\n",
    "\n",
    "**Word of warning:** I have re-defined what $x_n$ meant from the beginning of this lecture. This is to prepare to the study of waves.\n",
    "\n",
    "The game here is to find a continuous function $y(x, t)$ such that at every moment, $y(x_{n0}, t) = y_n(t)$.\n",
    "That is, a function that takes in the rest position $x_{n0}$ and time $t$ as argument, and tells us how far the mass from its rest position.\n",
    "\n",
    "In a way, you can see this as an anti-discretization: we started from a discrete set of oscillators, and are now looking to describe them with a continuous function.\n",
    "\n",
    "Let's consider again our long chain of $N$ masses and $N+1$ springs moving longitudinally, and let's look at the $n^\\text{th}$ mass along that chain.\n",
    "It can be any mass as long as it's not the first nor the last ($1< n <N$).\n",
    "Its equation of motion is equation \\eqref{eq:nthmass}, reproduced below with our new notations:\n",
    "\\begin{equation}\n",
    "    m \\ddot y_n = k(y_{n+1} -2y_n + y_{n-1}) \\quad\\Leftrightarrow\\quad \\ddot y_n = \\frac{k}{m}(y_{n+1} -2y_n + y_{n-1}). \\label{eq:ddotxi}\n",
    "\\end{equation}"
   ]
  },
  {
   "cell_type": "markdown",
   "metadata": {
    "slideshow": {
     "slide_type": "subslide"
    }
   },
   "source": [
    "Thinking about the crystal again, we can limit ourselves to the study of modes whose \"wavelengths\" (i.e., twice the distance between two nodes) are much larger that $a$.\n",
    "In this case, consecutive $\\xi_n$'s are very close to one another, and we can do Taylor expansions in $a$,\n",
    "\\begin{align*}\n",
    "    y_{n+1}(t) = y(x_{n0}+a, t) & \\approx y(x_{n_0}, t) + \\left. a\\pde{y}{x}\\right|_{x=x_{n0}} + \\left.\\frac{a^2}2\\pden{2}{y}{x}\\right|_{x=x_{n0}}\\\\\n",
    "    \\text{and similarly,}\\quad y_{n-1}(t) & \\approx y(x_{n0}, t) - \\left. a\\pde{y}x\\right|_{x=x_{n0}} + \\left. \\frac{a^2}2\\pden2 y{x}\\right|_{x=x_{n0}}.\n",
    "\\end{align*}"
   ]
  },
  {
   "cell_type": "markdown",
   "metadata": {
    "slideshow": {
     "slide_type": "skip"
    }
   },
   "source": [
    "Plugging everything back into equation \\eqref{eq:ddotxi}, we obtain\n",
    "\\begin{equation}\n",
    "    \\ddot \\xi_n \\approx \\frac{ka^2}m\\left.\\pden2\\xi{x}\\right|_{x=x_{n0}}. \n",
    "\\end{equation}\n",
    "\n",
    "## Applying the continuum approximation\n",
    "\n",
    "To complete our continuum approximation and let $N\\to\\infty$, or equivalently, $a\\to 0$, we need to make a few adjustments.\n",
    "\n",
    "We will treat each location $x$ as the resting position of a fictitious mass, and therefore replace all $x_{n0}$'s with $x$, and every $y_n(t)$ with $y(x, t)$.\n",
    "And then, we need to turn our discrete masses and stiffnesses into quantities that will measure the properties of our medium.\n",
    "\n",
    "### Mass density\n",
    "\n",
    "We can't just add up masses, otherwise the total mass will tend to infinity.\n",
    "If our chain of oscillators is to represent a continuous medium, then each mass needs to tend to zero, so that the mass density of the chain,\n",
    "$$\\mu = \\frac{m}a,$$\n",
    "remains finite.\n",
    "\n",
    "### A measure of how hard it is to deform the whole chain\n",
    "\n",
    "We can't just add up springs that all have the same constant stiffness $k$, because what would happen in this case?\n",
    "Imagine you take the last mass on the chain, move it by a distance $X$, and find a way to immobilize all other masses to their new resting position so that the chain is now still in this new state.\n",
    "What is the force on the mass?\n",
    "We have seen in a tutorial that if you link two springs $k_1$ and $k_2$ in series, their collective stiffness becomes $1/K = 1/k_1 + 1/k_2$, and if they are identical, $K = k/2$.\n",
    "Same for $N+1$ springs: $K= k/(N+1) \\to 0$.\n",
    "In the tutorial, we did not have any mass between the springs, but it doesn't matter because the spring force that the mass experiences is really the spring force immediately to its left and right, regardless of whether there is a mass at the end of each spring.\n",
    "So, the mass in the middle experiences vanishing forces on both sides, which is of course not true: it is very difficult to deform a solid.\n",
    "The stiffness we need to use therefore has to take into account the distance $a$.\n",
    "    \n",
    "To solve this problem, let's just imagine pulling the *entire* chain with a tension $F$, such that the resulting elongation of the total chain is $\\ell$.\n",
    "The relative elongation is therefore $\\ell/L$, and it is the same as the relative elongation of each spring, $\\Delta y/a$.\n",
    "Similar to Hooke's law defining the spring stiffness $k$, we define the \"stretching modulus\" of the chain $\\sigma$ such that\n",
    "$$F = -\\sigma \\frac{\\ell}L.$$\n",
    "The parameter $\\sigma$ works for our purpose because it measures a global property of the medium.\n",
    "More specifically, it measures the medium's resistance to compression or elongation.\n",
    "\n",
    "Following the law of the springs in series, we also know that Hooke's law says\n",
    "$$F = -\\frac{k}{N+1}\\ell = -\\sigma \\frac{\\ell}L \\thrfor k = \\sigma \\frac{N+1}{L} = \\frac{\\sigma}a$$"
   ]
  },
  {
   "cell_type": "markdown",
   "metadata": {
    "slideshow": {
     "slide_type": "skip"
    }
   },
   "source": [
    "## The wave equation for longitudinal waves\n",
    "\n",
    "We now have the mass density $\\mu$ and the stretchiness modulus $\\sigma$.\n",
    "Those are properties of the medium: they are the true parameters here, not $m$ or $k$.\n",
    "\n",
    "The angular frequency squared $\\omega_0^2$ then becomes\n",
    "$$\\omega_0^2 = \\frac{k}{m} = \\frac{\\sigma}a\\frac{1}{\\mu a} = \\frac{\\sigma}{\\mu a^2}.$$\n",
    "\n",
    "\n",
    "Under these conditions, the last equation becomes the canonical wave equation,\n",
    "\\begin{equation}\n",
    "    \\boxed{\\pden2{y}t - v^2\\pden2y{x} = 0},\\with v = \\sqrt{\\frac{\\sigma}{\\mu}}.\n",
    "\\end{equation}\n",
    "\n",
    "I only framed the first equation because it is uber-general in physics.\n",
    "What $y$ and $v$ are will vary from context to context, but the equation is the wave equation, and it always looks like this in 1D.\n",
    "\n",
    "The parameter $v$ is the so-called *phase speed* of the waves.\n",
    "You can check the units: $\\sigma$ has units of Newton (see the equation where we defined it: it has the same units as the tension $T$), i.e., units of $\\text{kg}\\,\\text{m}\\,\\text{s}^{-2}$, and $\\mu$ has units of $\\text{kg}\\,\\text{m}^{-1}$.\n",
    "Their ratio therefore has units of $\\text{m}^2\\,\\text{s}^{-2}$, and $v = \\sqrt{\\sigma/\\mu}$.\n",
    "\n",
    "It is the speed at which disturbances propagate along the chain, and we treat it as a constant.\n",
    "\n",
    "*Note: \"stretchiness modulus\" is of course not a scientific term, I made it up. In a more realistic 3D crystal, I would actually have introduced Young's modulus $E = k/a$, or elasticity modulus, instead of $\\sigma = ka$.\n",
    "I would also have been using the mass density $\\rho = m/a^3$ rather than $\\mu = m/a$.\n",
    "The phase speed would then have been $v = \\sqrt{E/\\rho}$. See French chap.5, p.151, for a discussion.*"
   ]
  },
  {
   "cell_type": "markdown",
   "metadata": {
    "slideshow": {
     "slide_type": "skip"
    }
   },
   "source": [
    "# The phase speed"
   ]
  },
  {
   "cell_type": "markdown",
   "metadata": {
    "slideshow": {
     "slide_type": "skip"
    }
   },
   "source": [
    "We are still on our journey to find the continuous function $y$ that can model each mode independently, but let's pause for a second and discuss this \"phase speed\" that showed up, because it's important.\n",
    "While the wave equation has the same form in many contexts, the definition of $v$ varies from field to field.\n",
    "\n",
    "* Transverse waves on a taut string, which you probably saw in 1st year or before: $v = \\sqrt{F/\\mu}$, with $F$ the along-axis tension force [in N] and $\\mu$ the mass per unit length of the string [in kg.m$^{-1}$]. For a violin E string (the skinniest I think), $F \\approx 68$ N, $\\mu \\approx 0.126$ g for $33$ cm long, or $3.8\\times 10^{-4}$ kg.m$^{-1}$, and $v \\approx 420$ m.s$^{-1}$.\n",
    "* EM waves in a vacuum: $v = c \\approx 3\\times 10^8$ m.s$^{-1}$.\n",
    "* Water waves whose wavelength is much longer than the depth, like ocean swell or tsunamis, $v = \\sqrt{gh}$, with $g$ the gravitational acceleration [in m.s$^{-2}$] and $h$ the water depth [in m]. Over the deep sea, where $h \\approx 5$ km, $v\\approx 220$ m.s$^{-1} \\approx$ 800 km.h$^{-1}$. This is faster than the speed of sound, but again, remember that waves don't carry water around. It is not that crazy. It means that a Tsunami originating in Japan will take 10 hours to arrive on Canada's West coast;\n",
    "* Sound waves: $v = 340$ m.s$^{-1}$ in air; in water $\\sim 1,500$ m.s$^{-1}$;\n",
    "* Seismic primary (or pressure) waves ($\\approx$ sound waves) in the Earth's Crust: $v\\approx 6-8$ km.s$^{-1}$. They are longitudinal waves.\n",
    "* Seismic secondary (or shear) waves in the Earth's crust: $v\\approx 3-4$ km.s$^{-1}$. They are transverse."
   ]
  },
  {
   "cell_type": "markdown",
   "metadata": {
    "slideshow": {
     "slide_type": "skip"
    }
   },
   "source": [
    "I find the first example, waves on a string, to be easier to visualize, so I'm going to switch to this type of waves from now on.\n",
    "They are easier to visualize because they are transverse: we see the displacement as motion that is perpendicular to the string.\n",
    "\n",
    "Let me recall their equation of propagation,\n",
    "$$ \\boxed{\\pden2yt = v^2\\pden2yx}, \\with v = \\sqrt{\\frac{F}{\\mu}}$$\n",
    "and $y(x,t)$ is the distance from axis at location $x$ and time $t$, which makes the waves \"transverse\" (see figure in Appendix).\n",
    "I will not derive it here because we already saw one wave derivation, but the calculation is not hard and you can see it in the appendix.\n",
    "\n",
    "*Note that we usually use $T$ to denote the tension instead of $F$, and most problems you will solve might use this notation. I prefer to use $F$ to avoid conflicts with the period of oscillation $T$. Be on the lookout for possible typos: because I work with books that use $T$ for the tension, I may keep writing it sometimes. Those are mistakes that I will try to correct.*"
   ]
  },
  {
   "cell_type": "markdown",
   "metadata": {
    "slideshow": {
     "slide_type": "skip"
    }
   },
   "source": [
    "The speed $v$ is the speed at which the disturbance propagates along the string, and we treat it as a constant.\n",
    "To understand this concept, imagine launching a wave pulse on a long rope, and imagine that somehow, the motion of your hand described a \"Gaussian pulse\", namely, $y(t) = A\\exp[-(t-t_0)^2/\\sigma_t^2]$.\n",
    "This function means that your hand motion went from 0 at $t \\ll t_0$ to $A$ at $t=t_0$ and back to 0 for $t \\to \\infty$, and that the motion typically lasted a duration of $2\\sigma_t$.\n",
    "This function look like a bell curve and is one of the most frequently encountered functions in physics."
   ]
  },
  {
   "cell_type": "markdown",
   "metadata": {
    "slideshow": {
     "slide_type": "skip"
    }
   },
   "source": [
    "Assuming that the waves on the rope are not too dispersive, i.e., the pulse retains it shape (we will see later what this means more precisely), then the shape of the pulse on the rope will be\n",
    "$$ y(x, t) = A \\exp\\left[-\\left(\\frac{x - vt}{\\sigma_x}\\right)^2\\right] = A \\exp\\left[-\\left(\\frac{t - x/v}{\\sigma_t}\\right)^2\\right],$$\n",
    "i.e, it will look like a Gaussian function in space, propagating with a speed $v$, with a typical spatial width of $2\\sigma_x = 2v\\sigma_t$, but also in time, with a typical temporal width $2\\sigma_t$."
   ]
  },
  {
   "cell_type": "code",
   "execution_count": null,
   "metadata": {
    "slideshow": {
     "slide_type": "subslide"
    }
   },
   "outputs": [],
   "source": [
    "def plot_pulse():\n",
    "    # We can plot this\n",
    "    import numpy as np\n",
    "    import matplotlib.pyplot as plt\n",
    "\n",
    "    x = np.linspace(-1., 5.0, 1024)  # a 4-m long rope\n",
    "    sigma_x = 0.5  # typical width of pulse\n",
    "    A = 1.  # amplitude of diplacement 1 m (just for illustration purposes)\n",
    "    v = 1.  # propagation velocity 1 m/s (for illustration purposes)\n",
    "    t0 = 0.  # time of first snapshot\n",
    "    t1 = 2.  # time of second snapshot\n",
    "    ftsz = 13  # the font size\n",
    "\n",
    "    y_t0 = A*np.exp(-((x - v*t0)/sigma_x)**2)\n",
    "    y_t1 = A*np.exp(-((x - v*t1)/sigma_x)**2)\n",
    "\n",
    "    plt.figure()\n",
    "    ax = plt.gca()\n",
    "    ax.plot(x, y_t0, 'b', label='pulse at $t=t_0$')\n",
    "    ax.plot(x, y_t1, 'r--', label='pulse at $t=t_0+\\Delta t$')\n",
    "    ax.set_xlabel('$x$ [m]', fontsize=ftsz)\n",
    "    ax.set_ylabel('$y/A$', fontsize=ftsz)\n",
    "    ax.grid()\n",
    "\n",
    "    # annotation to highlight the spatial width of pulse\n",
    "    ax.plot(2*[-sigma_x], [0.5/np.exp(1), 1.3/np.exp(1)], 'k')\n",
    "    ax.plot(2*[sigma_x], [0.5/np.exp(1), 1.3/np.exp(1)], 'k')\n",
    "    ax.annotate(text='', xy=(-sigma_x, .3), xytext=(sigma_x, 0.3),\n",
    "                arrowprops=dict(arrowstyle='<|-|>'))  # the double arrow\n",
    "    ax.text(0., 0.3, r'$2\\sigma_x$',\n",
    "            verticalalignment='center', horizontalalignment='center',\n",
    "            backgroundcolor='w', fontsize=ftsz)\n",
    "\n",
    "    # annotation to highlight the distance travelled during Delta t\n",
    "    ax.axvline(0., color='k', linestyle='--')\n",
    "    ax.axvline(v*(t1-t0), color='k', linestyle='--')\n",
    "    ax.annotate(text='', xy=(0., .8), xytext=(v*(t1-t0), 0.8),\n",
    "                arrowprops=dict(arrowstyle='<|-'))  # the double arrow\n",
    "    ax.text(0.5*v*(t1-t0), 0.8, r'$v\\Delta t$',\n",
    "            verticalalignment='center', horizontalalignment='center',\n",
    "            backgroundcolor='w', fontsize=ftsz)\n",
    "\n",
    "    plt.legend(loc='center right')\n",
    "    plt.autoscale(enable=True, axis='x', tight=True)\n",
    "    \n",
    "    return"
   ]
  },
  {
   "cell_type": "code",
   "execution_count": null,
   "metadata": {
    "slideshow": {
     "slide_type": "subslide"
    }
   },
   "outputs": [],
   "source": [
    "plot_pulse()"
   ]
  },
  {
   "cell_type": "markdown",
   "metadata": {
    "slideshow": {
     "slide_type": "skip"
    }
   },
   "source": [
    "# Normal modes of the wave equation\n",
    "\n",
    "## Setup\n",
    "\n",
    "To get warmed up, let's watch a couple of videos of our go-to set-up: the wave on a string. I recorded three demos, shown below and also at\n",
    "* https://youtu.be/bcIeaNoB880\n",
    "* https://youtu.be/DL47_MbRPmc\n",
    "* https://youtu.be/_am6ogAuSjc"
   ]
  },
  {
   "cell_type": "code",
   "execution_count": null,
   "metadata": {
    "scrolled": true,
    "slideshow": {
     "slide_type": "slide"
    }
   },
   "outputs": [],
   "source": [
    "YouTubeVideo('bcIeaNoB880', width=560, height=315)"
   ]
  },
  {
   "cell_type": "code",
   "execution_count": null,
   "metadata": {
    "slideshow": {
     "slide_type": "subslide"
    }
   },
   "outputs": [],
   "source": [
    "YouTubeVideo('DL47_MbRPmc', width=560, height=315)"
   ]
  },
  {
   "cell_type": "code",
   "execution_count": null,
   "metadata": {
    "scrolled": true,
    "slideshow": {
     "slide_type": "subslide"
    }
   },
   "outputs": [],
   "source": [
    "YouTubeVideo('_am6ogAuSjc', width=560, height=315)"
   ]
  },
  {
   "cell_type": "markdown",
   "metadata": {
    "slideshow": {
     "slide_type": "skip"
    }
   },
   "source": [
    "This is where we finally find solutions to our wave equation, in one specific case: the two ends of our chain of oscillators, or the two ends of our string, are tied.\n",
    "That is, we solve the problem\n",
    "$$\\pden2yt = v^2\\pden2yx,\\with y(x=0) = y(x=L) = 0,$$\n",
    "where $x=0$ and $x=L$ are the locations of the wall."
   ]
  },
  {
   "cell_type": "markdown",
   "metadata": {
    "slideshow": {
     "slide_type": "skip"
    }
   },
   "source": [
    "## General expression"
   ]
  },
  {
   "cell_type": "markdown",
   "metadata": {
    "slideshow": {
     "slide_type": "skip"
    }
   },
   "source": [
    "We focus on *standing waves*, traveling waves' evil twins.\n",
    "The key step is to **assume a form of the solutions to the wave equation in which the variables are separable**:\n",
    "$$ \\boxed{y(x, t) = f(x) h(t)}.$$"
   ]
  },
  {
   "cell_type": "markdown",
   "metadata": {
    "slideshow": {
     "slide_type": "skip"
    }
   },
   "source": [
    "Note: another try, another mathematical trick. How could you come up with it? You don't have to. As a researcher, I can tell that it is one of the easiest and therefore first things to do when one doesn't know anything about the solution.\n",
    "\n",
    "Nevertheless, you *could* have come up with it based on the videos: each mass on the chain, or each point on the string, oscillates at a certain frequency $\\omega$, with a certain amplitude $A$ ($A$ can be negative here or nothing will make sense).\n",
    "So, you could write the oscillation at each point as $A\\cos(\\omega t + \\phi)$.\n",
    "But the amplitude varies with location: $A(x)$, and you could even surmise that it does so sinusoidally, $A(x) = \\cos(kx +\\psi)$, though that's what we are about to prove. What is clear on the videos is that $A(x)$, and not $A(x, t)$.\n",
    "Moreover, $A$ does not evolve in time, and nothing about the time-oscillating part depends on $x$ (not even $\\phi$: the masses/location move either in phase or out-of-phase, but that's a sign difference that only depends on $x$ and can thus be incorporated in $A(x)$).\n",
    "So, we do have a variable-separated set of oscillations."
   ]
  },
  {
   "cell_type": "markdown",
   "metadata": {
    "slideshow": {
     "slide_type": "skip"
    }
   },
   "source": [
    "With this assumption/educated guess in mind,\n",
    "$$ \\pden2yt = f(x)\\oden2{h(t)}t = f(x)\\ddot h(t) \\andeq \\pden2yx = h(t)\\oden2{f(x)}x = h(t)f''(x), $$\n",
    "and the wave equation becomes\n",
    "$$  f(x)\\oden2{h(t)}t = v^2 h(t)\\oden2{f(x)}x. $$"
   ]
  },
  {
   "cell_type": "markdown",
   "metadata": {
    "slideshow": {
     "slide_type": "skip"
    }
   },
   "source": [
    "The usefulness of this form is not apparent until after division by $f(x)h(t)$, i.e.\n",
    "$$ \\frac{1}{h(t)}\\oden2{h(t)}t = v^2 \\frac{1}{f(x)}\\oden2{f(x)}x. $$"
   ]
  },
  {
   "cell_type": "markdown",
   "metadata": {
    "slideshow": {
     "slide_type": "skip"
    }
   },
   "source": [
    "Looking at the equation closely, one notices that the LHS only depends on $t$, while the RHS only depends on $x$ (recall that $v$ is constant).\n",
    "The only way for two functions that depend on two different variables to be equal to each other is for both of them to be equal to a constant, i.e.,\n",
    "$$ \\frac{1}{h(t)}\\oden2{h(t)}t = v^2 \\frac{1}{f(x)}\\oden2{f(x)}x = -\\omega^2. $$"
   ]
  },
  {
   "cell_type": "markdown",
   "metadata": {
    "slideshow": {
     "slide_type": "skip"
    }
   },
   "source": [
    "Why $-\\omega^2$? Because, for example,\n",
    "$$ \\frac{1}{h(t)}\\oden2{h(t)}t = -\\omega^2 \\thrfor \\boxed{\\ddot h(t) + \\omega^2 h(t) = 0}. $$\n",
    "This is the **same equation as an SHO**, and the solution is still\n",
    "$$ h(t) = h_0\\cos(\\omega t + \\phi). $$"
   ]
  },
  {
   "cell_type": "markdown",
   "metadata": {
    "slideshow": {
     "slide_type": "skip"
    }
   },
   "source": [
    "Likewise,\n",
    "$$ f(x) = f_0\\cos(kx + \\phi_f), \\quad \\textrm{with} \\quad k = \\omega/v. $$\n",
    "\n",
    "**Notation change alert:** $k$ is now a wavenumber, in rad.m$^{-1}$, **not** a spring stiffness anymore."
   ]
  },
  {
   "cell_type": "markdown",
   "metadata": {
    "slideshow": {
     "slide_type": "skip"
    }
   },
   "source": [
    "In this lecture however, it will be easier for us to write the expression above as\n",
    "$$ f(x) = A \\cos(kx) + B \\sin(kx). $$"
   ]
  },
  {
   "cell_type": "markdown",
   "metadata": {
    "slideshow": {
     "slide_type": "skip"
    }
   },
   "source": [
    "Can we write \n",
    "$$ y(x, t) = h_0 \\cos(\\omega t + \\phi)\\left[ A \\cos(kx) + B \\sin(kx) \\right] $$\n",
    "yet?\n",
    "Not quite, because $\\omega$ and $k$ can take many values.\n",
    "As we are about to see, for a given set of boundary conditions, there is a discrete but infinite number of possible solutions for $f$ and $h$."
   ]
  },
  {
   "cell_type": "markdown",
   "metadata": {
    "slideshow": {
     "slide_type": "skip"
    }
   },
   "source": [
    "## Boundary conditions"
   ]
  },
  {
   "cell_type": "markdown",
   "metadata": {
    "slideshow": {
     "slide_type": "skip"
    }
   },
   "source": [
    "Let $x=L$ and $x=0$ be the locations of the walls.\n",
    "Mathematically, the statement translates into:\n",
    "$$ y(t, 0) = y(t, L) = 0 \\thrfor f(0) = f(L) = 0.$$\n",
    "\n",
    "$$ f(0) = A\\cos0 + B\\sin0 = A = 0. $$\n",
    "$$ \\thrfor f(L) = B\\sin(kL) = 0 \\thrfor kL = n\\pi, \\ n\\in \\mathbb N^*. $$\n",
    "$\\mathbb N^*$ means that zero is excluded.\n",
    "Indeed, because $k = \\omega/v$, $k=0\\Rightarrow\\omega = 0$, i.e., it is a trivial, non-oscillating solution."
   ]
  },
  {
   "cell_type": "markdown",
   "metadata": {
    "slideshow": {
     "slide_type": "skip"
    }
   },
   "source": [
    "Consequently, an infinite number of $k$'s can satisfy the wave equation when both ends are attached:\n",
    "$$ \\boxed{k_n = \\frac{n\\pi}L, \\quad n\\in \\mathbb N^*}. $$"
   ]
  },
  {
   "cell_type": "markdown",
   "metadata": {
    "slideshow": {
     "slide_type": "skip"
    }
   },
   "source": [
    "Recall that $k = \\omega/v$, therefore, the set of frequencies is also a countably infinite set:\n",
    "$$ \\boxed{\\omega_n = \\frac{n\\pi v}L, \\quad n\\in \\mathbb N^*}. $$"
   ]
  },
  {
   "cell_type": "markdown",
   "metadata": {
    "slideshow": {
     "slide_type": "skip"
    }
   },
   "source": [
    "The corresponding solution for a given $n$ is therefore\n",
    "$$ y_n(t, x) = C_n \\cos(\\omega_n t + \\phi_n)\\sin(k_n x). $$\n",
    "Such a partial solution is a **mode of vibration** of the string.\n",
    "It is of course the equivalent of the normal modes of the coupled systems of oscillators.\n",
    "There is now an infinite number of them, because the string is a continuous system that can be viewed as an infinite number of coupled oscillators."
   ]
  },
  {
   "cell_type": "markdown",
   "metadata": {
    "slideshow": {
     "slide_type": "skip"
    }
   },
   "source": [
    "Like for coupled oscillators, any solution can be written as a linear combination of a countably infinite set of **modes**, i.e.,\n",
    "$$ \\boxed{y(t, x) = \\sum_{n = 1}^{\\infty} C_n \\cos(\\omega_n t + \\phi_n)\\sin(k_n x)}.$$"
   ]
  },
  {
   "cell_type": "code",
   "execution_count": null,
   "metadata": {
    "slideshow": {
     "slide_type": "slide"
    }
   },
   "outputs": [],
   "source": [
    "N = 4  # number of modes I want to display\n",
    "L = .33  # length of string: 33 cm\n",
    "F = 68  # tension in the string: 68 N\n",
    "mu = 0.125/L  # mass per unit lenght of the string\n",
    "\n",
    "x = np.linspace(0., L, 128)  # the x array\n",
    "v = np.sqrt(F/mu)  # phase speed\n",
    "k0 = np.pi/L  # the fundamental k; k_n = n*k0 and omega_n = n*v*k0\n",
    "\n",
    "k = [n*k0 for n in range(1, N+1)]  # the list of k's\n",
    "omega = [n*k0*v for n in range(1, N+1)]  # the list of k's\n",
    "C = [0.2+0.3/n for n in range(1, N+1)]  # amplitude decreases with n for illustration\n",
    "f_modes = {}  # we will store the modes into a python structure called dictionary\n",
    "# f_modes only stores the spatial information\n",
    "for n in range(N):\n",
    "    f_modes[n] = np.sin(k[n]*x)"
   ]
  },
  {
   "cell_type": "code",
   "execution_count": null,
   "metadata": {
    "slideshow": {
     "slide_type": "subslide"
    }
   },
   "outputs": [],
   "source": [
    "# Various quantities\n",
    "t_end = 2.*np.pi/(omega[0]) # time array spans one fundamental frequency\n",
    "n_frames = 50  # number of frames for animation\n",
    "time = np.linspace(0., t_end, n_frames)  # time array\n",
    "ftsz = 13  # the font size\n",
    "\n",
    "imagelist = []  # list of frames to eventually animate\n",
    "\n",
    "# Animation\n",
    "fig = plt.figure()\n",
    "ax = plt.gca()\n",
    "ax.set_xlim([0., 1.])\n",
    "ax.set_ylim([0.5, N+0.5])\n",
    "ax.set_xlabel('$x/L$', fontsize=ftsz)\n",
    "ax.set_yticks(range(1, N+1))\n",
    "ax.set_ylabel('$y_n(t, x) + \\mathrm{ mode\\ number\\ } n$', fontsize=ftsz)\n",
    "ax.grid()\n",
    "\n",
    "x_positions = np.tile(x, (N, 1))/L  # replicate the x array N times\n",
    "y_modes = np.zeros((N, len(x)))  # nx positions for N modes\n",
    "first_iteration = True  # I will want to save the first picture for the pdf notes\n",
    "for t in time: # We loop over time to animate the modes\n",
    "    for n in range(N):\n",
    "        y_modes[n, :] = 1 + n + C[n]*f_modes[n]*np.cos(omega[n]*t)\n",
    "    im = plt.scatter(x_positions, y_modes, c=y_modes, cmap='copper')\n",
    "    imagelist.append([im])\n",
    "\n",
    "# Creation of the animation\n",
    "ani = animation.ArtistAnimation(fig, imagelist, interval=40, blit=True, repeat_delay=1000)\n",
    "plt.close()"
   ]
  },
  {
   "cell_type": "code",
   "execution_count": null,
   "metadata": {
    "scrolled": false,
    "slideshow": {
     "slide_type": "subslide"
    }
   },
   "outputs": [],
   "source": [
    "# Show the animation\n",
    "HTML(ani.to_html5_video())"
   ]
  },
  {
   "cell_type": "code",
   "execution_count": null,
   "metadata": {
    "scrolled": false,
    "slideshow": {
     "slide_type": "skip"
    }
   },
   "outputs": [],
   "source": [
    "# Save the animation\n",
    "ani.save('VibrationModes.mp4')"
   ]
  },
  {
   "cell_type": "markdown",
   "metadata": {
    "slideshow": {
     "slide_type": "skip"
    }
   },
   "source": [
    "Here are a few important remarks.\n",
    "\n",
    "* Those points where the string doesn't move are called **nodes**.\n",
    "* Those points in-between where the string moves with the largest amplitude are called **antinodes**. I might call them bellies. It is *not* standard practice to do so.\n",
    "* The mode with no nodes ($n = 1$ here) is called the **fundamental** (mode), or **first harmonic** (but really, \"fundamental\" is more standard). It is originally a musical term, I guess, as in, it corresponds to the gravest sound an instrument of piece of instrument can produce. The one with one node ($n = 2$) is called the **second harmonic**, and so on.\n",
    "* The $n^{th}$ harmonic has $n-1$ nodes, and $n$ antinodes.\n",
    "* $k_n$ is called the **wavenumber** of the $n^{th}$ mode, $$\\boxed{\\lambda_n = \\frac{2\\pi}{k_n}} = \\frac{2L}n $$ is its **wavelength**. The units of $k_n$ are rad.m$^{-1}$ and those of $\\lambda_n$ are m (metres)."
   ]
  },
  {
   "cell_type": "markdown",
   "metadata": {
    "slideshow": {
     "slide_type": "subslide"
    }
   },
   "source": [
    "***\n",
    "\n",
    "**Worked example (from King, p.143):** \n",
    "\n",
    "[A string] of a cello has a linear density $\\mu = 1.70$ g.m$^{-1}$ and a length $L = 0.70$ m.\n",
    "The tension in the string is adjusted so that the fundamental frequency is 220 Hz.\n",
    "\n",
    "1. What is the tension in the string?\n",
    "2. A weight of mass $m$ is suspended from the string. What mass would produce the same tension? \n",
    "3. What is the wavelength of the sound from the string?\n",
    "\n",
    "Take the velocity of sound in air to be 340 m.s$^{-1}$ and the acceleration due to gravity to be 10 m.s$^{-2}$."
   ]
  },
  {
   "cell_type": "markdown",
   "metadata": {
    "slideshow": {
     "slide_type": "subslide"
    }
   },
   "source": [
    "**Solution:**\n",
    "\n",
    "1. $\\lambda \\nu = v$ and $\\lambda/2 = L$ for the fundamental frequency, giving $v = 2L\\nu$.\n",
    "    $$F = \\mu v^2 = \\mu(2L\\nu)^2 = \\frac{1.70}{1000}\\times (2 \\times 0.70 \\times 220)^2\n",
    "= 161\\text{ N}.$$\n",
    "2. $m = F/g = 16.4$ kg.\n",
    "    This result illustrates the fact that stringed instruments are subject to large forces.\n",
    "3. The frequency of the sound wave is the same as the frequency of the vibrating string. Hence, the wavelength of the sound wave is equal to $340/220 = 1.54$ m.\n",
    "    This is different to the wavelength of the fundamental of the string ($= 2L = 1.40$ m) because of the different wave velocities in the string and in air.\n",
    "\n",
    "***"
   ]
  },
  {
   "cell_type": "markdown",
   "metadata": {
    "slideshow": {
     "slide_type": "skip"
    }
   },
   "source": [
    "We made the transition from a formalism that involves linear algebra and eigenmodes to one that involves continuous functions.\n",
    "You may find the wave formalism easier than the linear algebra one, but that is an illusion: the linear algrebra one is arguably simpler, *everything else being equal*. \n",
    "Because it was so simple, I was able to talk about complicated situations (oscillators with different masses, etc.). \n",
    "Here, with waves, I had to stick to the most basic case, i.e., a string with a uniform mass density $\\mu$ (a varying one would be like varying the masses along the chain of oscillators). \n",
    "If I had to studied a string that was heavier on some parts (like a whip that gets thinner away from the handle, or a knotted string), then I would have need to pull out a mathematical arsenal that would make eigenvalue problems sound like a joke: things like Wentzel-Kramers-Brillouin or Sturm-Liouville theories, asymptotic expansions, and so on.\n",
    "We would have been looking for \"eigenfunctions\" (instead of eigenvectors) of \"linear operators\" (instead of linear tranformations), based on orthogonality properties defined by \"inner products\" (instead of dot products). \n",
    "\n",
    "If (and only if) you want more info about the connection between linear algebra and the mode calculations I did, see the nice video below (https://youtu.be/TgKwz5Ikpc8, in particular, you will notice that I paraphrased the author at around 11:10)."
   ]
  },
  {
   "cell_type": "code",
   "execution_count": null,
   "metadata": {
    "scrolled": true,
    "slideshow": {
     "slide_type": "skip"
    }
   },
   "outputs": [],
   "source": [
    "YouTubeVideo('TgKwz5Ikpc8', width=560, height=315)"
   ]
  },
  {
   "cell_type": "markdown",
   "metadata": {
    "slideshow": {
     "slide_type": "skip"
    }
   },
   "source": [
    "## What about different boundary conditions?\n",
    "\n",
    "*Time permitting; treat it as a worked example.*\n",
    "\n",
    "The conditions where the two ends are attached were just one of the possibilities for boundary conditions.\n",
    "Another common one is when the ends are *not* attached, i.e., when there is no force at the ends of the string.\n",
    "This is the case for the chain of pendulums for which I recorded a demo earlier.\n",
    "\n",
    "The force applied by one piece of the string to the next is the tension force $\\vec F$, and when projected in the $y$-direction, it is $F_y = F\\sin\\theta$, where $\\theta$ is the local angle of the string with the $x$-axis (see Appendix for more explanations and a figure).\n",
    "And when angles are small,\n",
    "$$F_y \\approx F\\theta \\approx F\\tan\\theta = F\\partial{y}/\\partial x.$$\n",
    "So, a boundary condition in which the end is not attached, i.e., a force-free boundary condition, is one for which\n",
    "$$\\left.\\pde{y}x\\right|_{end} = 0.$$\n",
    "\n",
    "In computational physics, a boundary condition that prescribes the value of a function, $y|_{end} = A$, is called a *Dirichlet* boundary condition.\n",
    "When it is the value of the derivative of that function that is prescribed, $\\partial y/\\partial x|_{end} = A$, then the boundary condition is called a *Neumann* boundary condition. Here, we are working with a Neumann boundary condition.\n",
    "\n",
    "So, what happens when the ends are not attached, and\n",
    "$$\\left.\\pde{y}x\\right|_{x=0, L} = 0?$$\n",
    "Then we re-boot the derivation for standing waves on a tied string:\n",
    "\n",
    "* we still assume that we can write $y(t, x) = f(x)h(t)$,\n",
    "* $h = h_0\\cos(\\omega t + \\phi)$ is still true,\n",
    "* $f(x) = A\\cos(kx) + B\\sin(kx)$ also,\n",
    "\n",
    "but things change after that."
   ]
  },
  {
   "cell_type": "markdown",
   "metadata": {
    "slideshow": {
     "slide_type": "skip"
    }
   },
   "source": [
    "Indeed,\n",
    "$$ \\left.\\pde{y}x\\right|_{t, x=0} = \\left.\\pde{y}x\\right|_{t, x=L} = 0 \\thrfor f'(0) = f'(L) = 0,$$\n",
    "with\n",
    "$$f'(x) = -k A \\sin(kx) + k B \\cos(kx).$$\n",
    "\n",
    "Applying the B.Cs,\n",
    "$$ f'(0) = -k A\\sin0 + k B\\cos0 = k B = 0. $$\n",
    "$$ \\thrfor f'(L) = -k A\\sin(kL) = 0 \\thrfor k L = n\\pi, \\ n\\in \\mathbb N^*. $$\n",
    "\n",
    "Then, the function $f$ becomes\n",
    "$$f(x) = A\\cos(k_n x), \\with k_{n}=\\frac{\\pi n}{L}.$$"
   ]
  },
  {
   "cell_type": "code",
   "execution_count": null,
   "metadata": {
    "slideshow": {
     "slide_type": "subslide"
    }
   },
   "outputs": [],
   "source": [
    "# Let's plot the equivalent of a previous animation\n",
    "N = 4  # maximum mode I want to display\n",
    "L = .33  # length of string: 33 cm\n",
    "F = 68  # tension in the string: 68 N\n",
    "mu = 0.125/L  # mass per unit lenght of the string\n",
    "\n",
    "x = np.linspace(0., L, 128)  # the x array\n",
    "v = np.sqrt(F/mu)  # phase speed\n",
    "k0 = np.pi/L  # the fundamental k; k_n = n*k0 and omega_n = n*v*k0\n",
    "\n",
    "k = [n*k0 for n in range(1, N+1)]  # the list of k's\n",
    "omega = [kn*v for kn in k]  # the list of k's\n",
    "C = [0.2+0.3/n for n in range(1, N+1)]  # amplitude decreases with n for illustration"
   ]
  },
  {
   "cell_type": "code",
   "execution_count": null,
   "metadata": {
    "slideshow": {
     "slide_type": "subslide"
    }
   },
   "outputs": [],
   "source": [
    "# Various quantities\n",
    "t_end = 2.*np.pi/(omega[0]) # time array spans one fundamental frequency\n",
    "n_frames = 50  # number of frames for animation\n",
    "time = np.linspace(0., t_end, n_frames)  # time array\n",
    "ftsz = 13  # the font size\n",
    "\n",
    "imagelist = []  # list of frames to eventually animate\n",
    "\n",
    "# Animation\n",
    "fig = plt.figure()\n",
    "ax = plt.gca()\n",
    "ax.set_xlim([0., 1.])\n",
    "ax.set_ylim([0.5, N+0.5])\n",
    "ax.set_xlabel('$x/L$', fontsize=ftsz)\n",
    "ax.set_yticks(range(1, N+1))\n",
    "ax.set_ylabel('$y_n(t, x) + \\mathrm{ mode\\ number\\ } n$', fontsize=ftsz)\n",
    "ax.set_title('Neuman boundary conditions')\n",
    "ax.grid()\n",
    "\n",
    "x_positions = np.tile(x, (N, 1))/L  # replicate the x array N times\n",
    "y_modes = np.zeros((N, len(x)))  # nx positions for N modes\n",
    "first_iteration = True  # I will want to save the first picture for the pdf notes\n",
    "for t in time: # We loop over time to animate the modes\n",
    "    for n in range(N):\n",
    "        y_modes[n, :] = 1 + n + C[n]*np.cos(k[n]*x)*np.cos(omega[n]*t)\n",
    "    im = plt.scatter(x_positions, y_modes, c=y_modes, cmap='copper')\n",
    "    imagelist.append([im])\n",
    "\n",
    "# Creation of the animation\n",
    "ani = animation.ArtistAnimation(fig, imagelist, interval=40, blit=True, repeat_delay=1000)\n",
    "plt.close()"
   ]
  },
  {
   "cell_type": "code",
   "execution_count": null,
   "metadata": {
    "slideshow": {
     "slide_type": "subslide"
    }
   },
   "outputs": [],
   "source": [
    "# Show the animation\n",
    "HTML(ani.to_html5_video())"
   ]
  },
  {
   "cell_type": "code",
   "execution_count": null,
   "metadata": {
    "slideshow": {
     "slide_type": "skip"
    }
   },
   "outputs": [],
   "source": [
    "# Save the animation\n",
    "ani.save('NeumanVibrationModes.mp4')"
   ]
  },
  {
   "cell_type": "markdown",
   "metadata": {
    "slideshow": {
     "slide_type": "skip"
    }
   },
   "source": [
    "And what if we had the string attached on one end and free on the other?\n",
    "Sounds like a good question for a tutorial. ;-)"
   ]
  },
  {
   "cell_type": "markdown",
   "metadata": {
    "slideshow": {
     "slide_type": "skip"
    }
   },
   "source": [
    "# Summary\n",
    "\n",
    "In this lecture, we saw:\n",
    "\n",
    "* The normal modes and normal frequencies of two masses and three springs in longitudinal oscillations.\n",
    "* The normal modes and normal frequencies of $N\\gg 1$ masses and $N+1$ springs in longitudinal oscillations, solved numerically.\n",
    "* When masses start to become large, each mode looks like the oscillation of a standing wave: each mass has a certain phase shift with the next mass, the patterns look smooth, and you have the nodes and antinodes you can see with oscillations of a wave on a string.\n",
    "* When the number of oscillators becomes so large that the distance between them vanishes, we can do a continuum approximation, namely, we can replace all individual masses by the mass density $\\mu$, and all individual stiffnesses by a constant that quantifies how hard it is to elongate a piece of material.\n",
    "* When said continuum approximation is applied, $N$ individual equations turn into one wave equation.\n",
    "* The wave equation:\n",
    "    $$\\pden2{y}t - v^2\\pden2{t}x = 0,$$\n",
    "    with $v$ the phase speed.\n",
    "* The wave equation on a domain of finite length $L$ has an infinite number of modal solutions, each with their own wavenumber and angular frequency, and the general solution is a linear combination of some or all modes.\n",
    "* The statements above all had direct equivalents for discrete assemblies of coupled oscillators."
   ]
  },
  {
   "cell_type": "markdown",
   "metadata": {
    "slideshow": {
     "slide_type": "skip"
    }
   },
   "source": [
    "# Appendix: derivation of the wave equation for the taut string\n",
    "\n",
    "Let's break down the string into infinitesimally small slices, and let's consider in particular a piece of string that is located between $x_0$ and $x_0 + \\delta x$.\n",
    "The transverse displacements are along the $y$-axis, and we identify them as $y(x, t)$.\n",
    "The string has mass per unit length $\\mu$ (in kg/m), and is submitted to a tension $F$ (in N), which we treat as constant along the string.\n",
    "At the ends of the tiny slice, the string makes an angle $\\theta$ with the $x$-axis at $x_0$, and $\\theta + \\delta \\theta$ at $x_0+\\delta x$ (see figure below).\n",
    "\n",
    "![](SmallStrand.png)\n",
    "\n",
    "Newton says $m\\vec a = \\sum \\vec F$, on that piece of string ($m = \\mu \\delta x$).\n",
    "Actually, we are only interested in the transverse motion, i.e., $m\\ddot y = \\sum F_y$.\n",
    "\n",
    "Therefore, let's consider the $y$-component of the tension, because it is the one that restores the position of the string to its resting, along-$x$ situation.\n",
    "At $x=x_0$, the $y$-component of the tension is \n",
    "$$\\left.F_y\\right|_{x_0} = -F\\sin\\theta \\approx -F\\theta \\approx -F\\tan\\theta = -F\\left.\\pde{y}x\\right|_{x_0}.$$\n",
    "The minus sign is because if $\\theta > 0$, the force pulls in the negative direction (see fig. 1).\n",
    "The successive approximations I made above work well in the small-displacements regime.\n",
    "The regime corresponds to the **linear regime** of this physical system, which is the only one we study in this course.\n",
    "\n",
    "Similarly, at $x=x_0 + \\delta x$,\n",
    "$$\\left.F_y\\right|_{x_0+\\delta x} \\approx F\\left.\\pde{y}x\\right|_{x_0+\\delta x}.$$\n",
    "Note the positive sign this time, because the situation is opposite as before.\n",
    "\n",
    "The slice is infinitesimally small, and we have no reason to believe that a discontinuity exists between $x_0$ and $x_0 + \\delta x$ (if there is one, then we just pick a smaller $\\delta x$).\n",
    "For these reasons, we can Taylor-expand $\\left.F_y\\right|_{x_0+\\delta x}$ into\n",
    "$$ \\left.F_y\\right|_{x_0+\\delta x} \\approx F \\left(\\left. \\pde{y}x \\right|_{x_0} + \\delta x \\left. \\pde{}x\\pde{y}x \\right|_{x_0} \\right) = -\\left.F_y\\right|_{x_0} + \\delta x \\, F \\left. \\pden2{y}x \\right|_{x_0}.$$\n",
    "\n",
    "Neglecting all other forces like gravity, Newton then tells you that\n",
    "$$ \\mu \\delta x \\pden2yt = \\left.F_y\\right|_{x_0} + \\left.F_y\\right|_{x_0 + \\delta} \\approx \\delta x \\, F \\left. \\pden2{y}x \\right|_{x_0}.$$"
   ]
  }
 ],
 "metadata": {
  "anaconda-cloud": {},
  "celltoolbar": "Slideshow",
  "kernelspec": {
   "display_name": "Python 3",
   "language": "python",
   "name": "python3"
  },
  "language_info": {
   "codemirror_mode": {
    "name": "ipython",
    "version": 3
   },
   "file_extension": ".py",
   "mimetype": "text/x-python",
   "name": "python",
   "nbconvert_exporter": "python",
   "pygments_lexer": "ipython3",
   "version": "3.8.10"
  }
 },
 "nbformat": 4,
 "nbformat_minor": 4
}
