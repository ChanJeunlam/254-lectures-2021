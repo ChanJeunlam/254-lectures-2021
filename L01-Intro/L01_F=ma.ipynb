{
 "cells": [
  {
   "cell_type": "raw",
   "id": "f4f19289",
   "metadata": {},
   "source": [
    "\\newcommand{\\rads}{~rad.s$^{-1}$}\n",
    "\\newcommand{\\BV}{Brunt-V\\\"ais\\\"al\\\"a{} }\n",
    "\\newcommand{\\bnabla}{\\boldsymbol{\\nabla}}\n",
    "\\newcommand{\\eexp}[1]{\\textsf{e}^{#1}}\n",
    "\\newcommand{\\glm}[1]{\\overline{#1}^L}\n",
    "\\newcommand{\\psmom}[0]{\\boldsymbol{\\textsf{p}}}\n",
    "\\newcommand{\\di}[0]{\\textrm{d}}\n",
    "\\newcommand{\\bs}[1]{\\boldsymbol{#1}}\n",
    "\\newcommand{\\ode}[2]{\\frac{\\di {#1}}{\\di {#2}}}\n",
    "\\newcommand{\\oden}[3]{\\frac{\\di^{#1} {#2}}{\\di {#3}^{#1}}}\n",
    "\\newcommand{\\odel}[2]{\\di {#1}/\\di {#2}}\n",
    "\\newcommand{\\odeln}[3]{\\di^{#1} {#2}/\\di {#3}^{#1}}\n",
    "\\newcommand{\\pde}[2]{\\frac{\\partial {#1}}{\\partial {#2}}}\n",
    "\\newcommand{\\pden}[3]{\\frac{\\partial^{#1} {#2}}{\\partial {#3}^{#1}}}\n",
    "\\newcommand{\\pdel}[2]{\\partial_{#2} {#1}}\n",
    "\\newcommand{\\pdenl}[3]{\\partial^{#1}_{#3} {#2}}\n",
    "\\newcommand{\\mde}[1]{\\frac{\\textrm{D} {#1}}{\\textrm{D} t}}\n",
    "\\newcommand{\\mdel}[1]{\\textrm{D}_t {#1}}\n",
    "\\newcommand{\\divr}[1]{\\vec\\nabla \\cdot {#1}}\n",
    "\\newcommand{\\divrb}[1]{\\boldsymbol{\\nabla} \\cdot {#1}}\n",
    "\\newcommand{\\grad}[1]{\\vec \\nabla {#1}}\n",
    "\\newcommand{\\gradb}[1]{\\boldsymbol\\nabla {#1}}\n",
    "\\newcommand{\\curl}[1]{\\vec\\nabla \\times {#1}}\n",
    "\\newcommand{\\curlb}[1]{\\boldsymbol{\\nabla}\\times\\boldsymbol{#1}}\n",
    "\\newcommand{\\lapl}[0]{\\vec\\nabla^2}\n",
    "\\newcommand{\\laplb}[0]{\\boldsymbol{\\nabla}^2}\n",
    "\\newcommand{\\cplxi}[0]{\\mathrm i}\n",
    "\\newcommand{\\unit}[1]{\\mathbf{\\hat{#1}}}\n",
    "\\newcommand{\\red}[1]{\\textcolor{red}{#1}}\n",
    "\\newcommand{\\blue}[1]{\\textcolor{blue}{#1}}\n",
    "\\newcommand{\\mage}[1]{\\textcolor{magenta}{#1}}"
   ]
  },
  {
   "cell_type": "raw",
   "id": "cf88d9c5",
   "metadata": {},
   "source": [
    "\\DefineVerbatimEnvironment{Verbatim}{Verbatim}{fontsize=\\scriptsize}"
   ]
  },
  {
   "cell_type": "markdown",
   "id": "27f8c903",
   "metadata": {},
   "source": [
    "$\\newcommand{\\rads}{~rad.s$^{-1}$}$\n",
    "$\\newcommand{\\bnabla}{\\boldsymbol{\\nabla}}$\n",
    "$\\newcommand{\\eexp}[1]{\\textsf{e}^{#1}}$\n",
    "$\\newcommand{\\glm}[1]{\\overline{#1}^L}$\n",
    "$\\newcommand{\\psmom}[0]{\\boldsymbol{\\textsf{p}}}$\n",
    "$\\newcommand{\\di}[0]{\\textrm{d}}$\n",
    "$\\newcommand{\\bs}[1]{\\boldsymbol{#1}}$\n",
    "$\\newcommand{\\ode}[2]{\\frac{\\di {#1}}{\\di {#2}}}$\n",
    "$\\newcommand{\\oden}[3]{\\frac{\\di^{#1} {#2}}{\\di {#3}^{#1}}}$\n",
    "$\\newcommand{\\odel}[2]{\\di {#1}/\\di {#2}}$\n",
    "$\\newcommand{\\odeln}[3]{\\di^{#1} {#2}/\\di {#3}^{#1}}$\n",
    "$\\newcommand{\\pde}[2]{\\frac{\\partial {#1}}{\\partial {#2}}}$\n",
    "$\\newcommand{\\pden}[3]{\\frac{\\partial^{#1} {#2}}{\\partial {#3}^{#1}}}$\n",
    "$\\newcommand{\\pdel}[2]{\\partial_{#2} {#1}}$\n",
    "$\\newcommand{\\pdenl}[3]{\\partial^{#1}_{#3} {#2}}$\n",
    "$\\newcommand{\\mde}[1]{\\frac{\\textrm{D} {#1}}{\\textrm{D} t}}$\n",
    "$\\newcommand{\\mdel}[1]{\\textrm{D}_t {#1}}$\n",
    "$\\newcommand{\\divr}[1]{\\vec\\nabla \\cdot {#1}}$\n",
    "$\\newcommand{\\divrb}[1]{\\boldsymbol{\\nabla} \\cdot {#1}}$\n",
    "$\\newcommand{\\grad}[1]{\\vec \\nabla {#1}}$\n",
    "$\\newcommand{\\gradb}[1]{\\boldsymbol\\nabla {#1}}$\n",
    "$\\newcommand{\\curl}[1]{\\vec\\nabla \\times {#1}}$\n",
    "$\\newcommand{\\curlb}[1]{\\boldsymbol{\\nabla}\\times\\boldsymbol{#1}}$\n",
    "$\\newcommand{\\lapl}[0]{\\vec\\nabla^2}$\n",
    "$\\newcommand{\\laplb}[0]{\\boldsymbol{\\nabla}^2}$\n",
    "$\\newcommand{\\cplxi}[0]{\\mathrm i}$\n",
    "$\\newcommand{\\unit}[1]{\\mathbf{\\hat{#1}}}$\n",
    "$\\newcommand{\\thrfor}[0]{\\quad\\Rightarrow\\quad}$\n",
    "$\\newcommand{\\red}[1]{\\textcolor{red}{#1}}$\n",
    "$\\newcommand{\\blue}[1]{\\textcolor{blue}{#1}}$\n",
    "$\\newcommand{\\mage}[1]{\\textcolor{magenta}{#1}}$"
   ]
  },
  {
   "cell_type": "code",
   "execution_count": 1,
   "id": "a70d8ff8",
   "metadata": {},
   "outputs": [],
   "source": [
    "# from IPython.display import Image, display, YouTubeVideo\n",
    "# from numpy import cos, sin, sqrt, linspace, pi, angle\n",
    "# import matplotlib.pyplot as plt\n",
    "# from matplotlib import interactive\n",
    "# interactive(False)"
   ]
  },
  {
   "cell_type": "markdown",
   "id": "78dce161",
   "metadata": {},
   "source": [
    "# Introduction\n",
    "\n"
   ]
  },
  {
   "cell_type": "markdown",
   "id": "9ef931c5",
   "metadata": {
    "slideshow": {
     "slide_type": "skip"
    }
   },
   "source": [
    "# Expectations"
   ]
  },
  {
   "cell_type": "markdown",
   "id": "d51af381",
   "metadata": {
    "slideshow": {
     "slide_type": "skip"
    }
   },
   "source": [
    "## Remember\n",
    "\n",
    "* a few things"
   ]
  },
  {
   "cell_type": "markdown",
   "id": "fa66d699",
   "metadata": {
    "slideshow": {
     "slide_type": "skip"
    }
   },
   "source": [
    "## Understand\n",
    "\n",
    "* more things"
   ]
  },
  {
   "cell_type": "markdown",
   "id": "8c60c9fe",
   "metadata": {
    "slideshow": {
     "slide_type": "skip"
    }
   },
   "source": [
    "## Apply\n",
    "\n",
    "* This and that\n",
    "\n",
    "... and make sure you can do worked examples, tutorials and problem sets."
   ]
  },
  {
   "cell_type": "code",
   "execution_count": null,
   "id": "b010ff2e",
   "metadata": {},
   "outputs": [],
   "source": []
  }
 ],
 "metadata": {
  "kernelspec": {
   "display_name": "Python 3",
   "language": "python",
   "name": "python3"
  },
  "language_info": {
   "codemirror_mode": {
    "name": "ipython",
    "version": 3
   },
   "file_extension": ".py",
   "mimetype": "text/x-python",
   "name": "python",
   "nbconvert_exporter": "python",
   "pygments_lexer": "ipython3",
   "version": "3.8.10"
  },
  "latex_metadata": {
   "affiliation": "University of Toronto, Department of Physics",
   "author": "Nicolas Grisouard, nicolas.grisouard@utoronto.ca",
   "title": "PHY254H1-SUM Lecture 01\\ **F**=m**a** problems"
  }
 },
 "nbformat": 4,
 "nbformat_minor": 5
}
