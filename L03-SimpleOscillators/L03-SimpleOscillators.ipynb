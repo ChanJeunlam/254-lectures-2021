{
 "cells": [
  {
   "cell_type": "raw",
   "metadata": {
    "raw_mimetype": "text/latex",
    "slideshow": {
     "slide_type": "skip"
    }
   },
   "source": [
    "\\DefineVerbatimEnvironment{Verbatim}{Verbatim}{fontsize=\\scriptsize}\n",
    "\n",
    "\\newcommand{\\bnabla}{\\boldsymbol{\\nabla}}\n",
    "\\newcommand{\\eexp}[1]{\\text{e}^{#1}}\n",
    "\\newcommand{\\di}[0]{\\text{d}}\n",
    "\\newcommand{\\bs}[1]{\\boldsymbol{#1}}\n",
    "\\newcommand{\\ode}[2]{\\frac{\\di {#1}}{\\di {#2}}}\n",
    "\\newcommand{\\oden}[3]{\\frac{\\di^{#1} {#2}}{\\di {#3}^{#1}}}\n",
    "\\newcommand{\\odel}[2]{\\di {#1}/\\di {#2}}\n",
    "\\newcommand{\\odeln}[3]{\\di^{#1} {#2}/\\di {#3}^{#1}}\n",
    "\\newcommand{\\pde}[2]{\\frac{\\partial {#1}}{\\partial {#2}}}\n",
    "\\newcommand{\\pden}[3]{\\frac{\\partial^{#1} {#2}}{\\partial {#3}^{#1}}}\n",
    "\\newcommand{\\pdel}[2]{\\partial_{#2} {#1}}\n",
    "\\newcommand{\\pdenl}[3]{\\partial^{#1}_{#3} {#2}}\n",
    "\\newcommand{\\divr}[1]{\\vec\\nabla \\cdot {#1}}\n",
    "\\newcommand{\\divrb}[1]{\\boldsymbol{\\nabla} \\cdot {#1}}\n",
    "\\newcommand{\\grad}[1]{\\vec \\nabla {#1}}\n",
    "\\newcommand{\\gradb}[1]{\\boldsymbol\\nabla {#1}}\n",
    "\\newcommand{\\curl}[1]{\\vec\\nabla \\times {#1}}\n",
    "\\newcommand{\\curlb}[1]{\\boldsymbol{\\nabla}\\times\\boldsymbol{#1}}\n",
    "\\newcommand{\\lapl}[0]{\\vec\\nabla^2}\n",
    "\\newcommand{\\laplb}[0]{\\boldsymbol{\\nabla}^2}\n",
    "\\newcommand{\\cplxi}[0]{\\text{i}}\n",
    "\\newcommand{\\unit}[1]{\\mathbf{\\hat{#1}}}\n",
    "\\newcommand{\\red}[1]{\\textcolor{red}{#1}}\n",
    "\\newcommand{\\blue}[1]{\\textcolor{blue}{#1}}\n",
    "\\newcommand{\\mage}[1]{\\textcolor{magenta}{#1}}\n",
    "\\newcommand{\\with}[0]{\\quad\\text{with}\\quad}\n",
    "\\newcommand{\\thrfor}[0]{\\quad\\Rightarrow\\quad}\n",
    "\\newcommand{\\andeq}[0]{\\quad\\text{and}\\quad}\n",
    "\\newcommand{\\oreq}[0]{\\quad\\text{or}\\quad}"
   ]
  },
  {
   "cell_type": "markdown",
   "metadata": {
    "raw_mimetype": "text/markdown",
    "slideshow": {
     "slide_type": "skip"
    }
   },
   "source": [
    "$\\newcommand{\\bnabla}{\\boldsymbol{\\nabla}}$\n",
    "$\\newcommand{\\eexp}[1]{\\text{e}^{#1}}$\n",
    "$\\newcommand{\\di}[0]{\\text{d}}$\n",
    "$\\newcommand{\\bs}[1]{\\boldsymbol{#1}}$\n",
    "$\\newcommand{\\ode}[2]{\\frac{\\di {#1}}{\\di {#2}}}$\n",
    "$\\newcommand{\\oden}[3]{\\frac{\\di^{#1} {#2}}{\\di {#3}^{#1}}}$\n",
    "$\\newcommand{\\odel}[2]{\\di {#1}/\\di {#2}}$\n",
    "$\\newcommand{\\odeln}[3]{\\di^{#1} {#2}/\\di {#3}^{#1}}$\n",
    "$\\newcommand{\\pde}[2]{\\frac{\\partial {#1}}{\\partial {#2}}}$\n",
    "$\\newcommand{\\pden}[3]{\\frac{\\partial^{#1} {#2}}{\\partial {#3}^{#1}}}$\n",
    "$\\newcommand{\\pdel}[2]{\\partial_{#2} {#1}}$\n",
    "$\\newcommand{\\pdenl}[3]{\\partial^{#1}_{#3} {#2}}$\n",
    "$\\newcommand{\\divr}[1]{\\vec\\nabla \\cdot {#1}}$\n",
    "$\\newcommand{\\divrb}[1]{\\boldsymbol{\\nabla} \\cdot {#1}}$\n",
    "$\\newcommand{\\grad}[1]{\\vec \\nabla {#1}}$\n",
    "$\\newcommand{\\gradb}[1]{\\boldsymbol\\nabla {#1}}$\n",
    "$\\newcommand{\\curl}[1]{\\vec\\nabla \\times {#1}}$\n",
    "$\\newcommand{\\curlb}[1]{\\boldsymbol{\\nabla}\\times\\boldsymbol{#1}}$\n",
    "$\\newcommand{\\lapl}[0]{\\vec\\nabla^2}$\n",
    "$\\newcommand{\\laplb}[0]{\\boldsymbol{\\nabla}^2}$\n",
    "$\\newcommand{\\cplxi}[0]{\\text{i}}$\n",
    "$\\newcommand{\\unit}[1]{\\mathbf{\\hat{#1}}}$\n",
    "$\\newcommand{\\thrfor}[0]{\\quad\\Rightarrow\\quad}$\n",
    "$\\newcommand{\\red}[1]{\\textcolor{red}{#1}}$\n",
    "$\\newcommand{\\blue}[1]{\\textcolor{blue}{#1}}$\n",
    "$\\newcommand{\\mage}[1]{\\textcolor{magenta}{#1}}$\n",
    "$\\newcommand{\\with}[0]{\\quad\\text{with}\\quad}$\n",
    "$\\newcommand{\\thrfor}[0]{\\quad\\Rightarrow\\quad}$\n",
    "$\\newcommand{\\andeq}[0]{\\quad\\text{and}\\quad}$\n",
    "$\\newcommand{\\oreq}[0]{\\quad\\text{or}\\quad}$"
   ]
  },
  {
   "cell_type": "code",
   "execution_count": 1,
   "metadata": {
    "slideshow": {
     "slide_type": "skip"
    }
   },
   "outputs": [],
   "source": [
    "from IPython.display import Image, display, YouTubeVideo\n",
    "import numpy as np\n",
    "import matplotlib.pyplot as plt\n",
    "from matplotlib import interactive\n",
    "interactive(True)\n",
    "import matplotlib as mpl\n",
    "mpl.rcParams['figure.dpi'] = 100  # for crisper figures later"
   ]
  },
  {
   "cell_type": "markdown",
   "metadata": {
    "slideshow": {
     "slide_type": "skip"
    }
   },
   "source": [
    "*Readings:*\n",
    "\n",
    "* *Morin 4.1-4.2*\n",
    "* *phase space: Gollub & Baker 2.1*"
   ]
  },
  {
   "cell_type": "markdown",
   "metadata": {
    "slideshow": {
     "slide_type": "skip"
    }
   },
   "source": [
    "# Expectations"
   ]
  },
  {
   "cell_type": "markdown",
   "metadata": {
    "slideshow": {
     "slide_type": "subslide"
    }
   },
   "source": [
    "## Remember\n",
    "\n",
    "* The simple harmonic oscillator (SHO) equation, $\\ddot x + \\omega^2_0 x = 0$.\n",
    "* For the pendulum, $\\omega^2_0 = g/\\ell$; for the mass+spring system, $\\omega^2_0 = k/m$.\n",
    "* Solutions to the SHO are in the form of $A\\eexp{i(\\omega_0 t + \\phi)}$, or any equivalent form.\n",
    "* A phase space diagram of an oscillation is a plot of the oscillation on a ($\\dot x, x$) graph, with the trace parameterized by time."
   ]
  },
  {
   "cell_type": "markdown",
   "metadata": {
    "slideshow": {
     "slide_type": "subslide"
    }
   },
   "source": [
    "## Understand\n",
    "\n",
    "* What the linear regime means.\n",
    "* What linearizing entails.\n",
    "* That an SHO is the combination of an inertial process (e.g., mass inertia, magnetic induction...) and of a restoring process (e.g., spring stiffness, capacitance...)\n",
    "* Similarities in Physics: if two ODEs have the same form, the mathematical solutions will also look the same."
   ]
  },
  {
   "cell_type": "markdown",
   "metadata": {
    "slideshow": {
     "slide_type": "subslide"
    }
   },
   "source": [
    "## Create and apply\n",
    "\n",
    "* From a set of two initial conditions (e.g. initial position **and** initial velocity, for the pendulum system), how to compute the complete evolution of the system.\n",
    "* How to apply knowledge from one type of oscillator (e.g., pendulum) to obtain the solutions of a difference kind of oscillator (e.g., mass+spring).\n",
    "* The \"adopt-an-exponential\" method.\n",
    "* ... and the worked out examples and tutorials"
   ]
  },
  {
   "cell_type": "markdown",
   "metadata": {
    "slideshow": {
     "slide_type": "skip"
    }
   },
   "source": [
    "Before I introduce the main oscillator of this chapter and the two after that (i.e., the mass+spring system), let me introduce you to another oscillator we will use often: the pendulum.\n",
    "See below (Jupyter) or at https://youtu.be/QPpatmnS3bs."
   ]
  },
  {
   "cell_type": "code",
   "execution_count": 2,
   "metadata": {
    "slideshow": {
     "slide_type": "subslide"
    }
   },
   "outputs": [
    {
     "data": {
      "image/jpeg": "[encoded data removed]",
      "text/html": [
       "\n",
       "        <iframe\n",
       "            width=\"800\"\n",
       "            height=\"300\"\n",
       "            src=\"https://www.youtube.com/embed/QPpatmnS3bs\"\n",
       "            frameborder=\"0\"\n",
       "            allowfullscreen\n",
       "        ></iframe>\n",
       "        "
      ],
      "text/plain": [
       "<IPython.lib.display.YouTubeVideo at 0x7fd5a3db5c70>"
      ]
     },
     "execution_count": 2,
     "metadata": {},
     "output_type": "execute_result"
    }
   ],
   "source": [
    "YouTubeVideo('QPpatmnS3bs', width=800, height=300)"
   ]
  },
  {
   "cell_type": "markdown",
   "metadata": {
    "slideshow": {
     "slide_type": "skip"
    }
   },
   "source": [
    "# Simple harmonic oscillators (SHOs)\n",
    "\n",
    "A simple harmonic oscillator is a system where a restoring force, i.e., a force that always tries to bring back (restore) the system to its equilibrium, is the only one to balance inertia ($ma$).\n",
    "Most notably, there is no friction in the system.\n",
    "Restoring and inertia are trapped in a dance where restoring brings the system to equilibrium, but inertia makes it overshoot, bringing restoring back into action, etc.\n",
    "\n",
    "## Equations of motion\n",
    "\n",
    "Consider the spring-mass system in the PhET simulation below (and at https://phet.colorado.edu/en/simulation/hookes-law). An ideal spring (that is, a weightless, dissipationless spring) of stiffess $k > 0$ [in N.m$^{-1}$, or kg.s$^{-2}$], attached to a fixed wall on one end, and an objet of mass $m$ [kg] on the other."
   ]
  },
  {
   "cell_type": "code",
   "execution_count": 3,
   "metadata": {
    "scrolled": false,
    "slideshow": {
     "slide_type": "slide"
    }
   },
   "outputs": [
    {
     "data": {
      "text/html": [
       "<iframe src=\"https://phet.colorado.edu/sims/html/hookes-law/latest/hookes-law_en.html\" width=\"800\" height=\"600\" scrolling=\"no\" allowfullscreen></iframe>\n"
      ],
      "text/plain": [
       "<IPython.core.display.HTML object>"
      ]
     },
     "metadata": {},
     "output_type": "display_data"
    }
   ],
   "source": [
    "%%html\n",
    "<iframe src=\"https://phet.colorado.edu/sims/html/hookes-law/latest/hookes-law_en.html\" width=\"800\" height=\"600\" scrolling=\"no\" allowfullscreen></iframe>"
   ]
  },
  {
   "cell_type": "markdown",
   "metadata": {
    "slideshow": {
     "slide_type": "skip"
    }
   },
   "source": [
    "Let $x$ be the position of the centre of mass of the object. $x=0$ at rest, $x\\neq 0$ otherwise.\n",
    "Let's also assume the mass can slide on the surface without friction, and that the spring is \"perfect\" (that is, weightless and can oscillate without dissipation).\n",
    "\n",
    "An equivalent system is the one I am presenting below (Jupyter notebook) and at https://youtu.be/cMjn04ivOfE."
   ]
  },
  {
   "cell_type": "code",
   "execution_count": 40,
   "metadata": {
    "scrolled": true,
    "slideshow": {
     "slide_type": "slide"
    }
   },
   "outputs": [
    {
     "data": {
      "image/jpeg": "[encoded data removed]",
      "text/html": [
       "\n",
       "        <iframe\n",
       "            width=\"800\"\n",
       "            height=\"300\"\n",
       "            src=\"https://www.youtube.com/embed/cMjn04ivOfE\"\n",
       "            frameborder=\"0\"\n",
       "            allowfullscreen\n",
       "        ></iframe>\n",
       "        "
      ],
      "text/plain": [
       "<IPython.lib.display.YouTubeVideo at 0x7fd5a3ff9eb0>"
      ]
     },
     "execution_count": 40,
     "metadata": {},
     "output_type": "execute_result"
    }
   ],
   "source": [
    "YouTubeVideo('cMjn04ivOfE', width=800, height=300)"
   ]
  },
  {
   "cell_type": "markdown",
   "metadata": {
    "slideshow": {
     "slide_type": "fragment"
    }
   },
   "source": [
    "We now pull the mass to position $x = x_0 \\neq 0$ and hold it there.\n",
    "If $x_0$ is \"not too big\", the spring will not deform or break.\n",
    "In this case, the force of the spring on the mass is (Hooke's law)\n",
    "$$F = -kx_0.$$\n",
    "\n",
    "* The negative sign means that the force is a **restoring force** (tends to bring back to origin).\n",
    "* $k$ being constant, the force is proportional to the distance from rest state. It makes this force linear: if I double the distance, I double the force.\n",
    "    See the second lecture for a discussion about how to make it non-linear.\n",
    "    Later, we will talk about the pendulum, for which the process of linearizing is more transparent."
   ]
  },
  {
   "cell_type": "markdown",
   "metadata": {
    "slideshow": {
     "slide_type": "skip"
    }
   },
   "source": [
    "Let us now release our spring.\n",
    "The motion of the object has to obey Newton's second law, which constitutes an equation of motion.\n",
    "$$ ma = F\\ \\Rightarrow\\ m\\ddot{x} = -kx.$$\n",
    "The equation above is a second-order Ordinary Differential Equation (ODE), which we saw before.\n",
    "\n",
    "Let \n",
    "\\begin{equation}\n",
    "    \\label{eq:SHO}\n",
    "    \\omega_0^2 = \\frac{k}{m} \\ \\Rightarrow \\ \\ddot{x} + \\omega_0^2 x = 0.\n",
    "\\end{equation}\n",
    "\n",
    "**Quick unit check:** Because $k$ is in kg.s$^{-2}$ and $m$ is in kg, $\\omega_0$ is in s$^{-1}$ in SI units.\n",
    "\n",
    "Why did I feel the need to add the subscript \"$0$\" in $\\omega_0$?\n",
    "In an SHO, there is indeed only one $\\omega$ so why bother? Because soon, we will add a bit of friction, and the situation will be more complicated."
   ]
  },
  {
   "cell_type": "markdown",
   "metadata": {
    "slideshow": {
     "slide_type": "skip"
    }
   },
   "source": [
    "## General Solutions\n",
    "\n",
    "From last lecture and tutorial, we know that the solution to the equation above has many equivalent forms, namely,\n",
    "\n",
    "* $x(t) = A\\cos(\\omega_0 t + \\phi)$,\n",
    "* $x(t) = B \\sin(\\omega_0 t + \\psi)$,\n",
    "* $x(t) = C \\cos(\\omega_0 t) + D \\sin (\\omega_0 t)$,\n",
    "* $x(t) = E \\eexp{i \\omega_0 t} + E^* \\eexp{-i \\omega_0 t}$,  (see tutorial 2)\n",
    "* $x(t) = \\text{Re}(G \\eexp{i \\omega_0 t})$."
   ]
  },
  {
   "cell_type": "markdown",
   "metadata": {
    "slideshow": {
     "slide_type": "skip"
    }
   },
   "source": [
    "Note that there are always two free parameters:\n",
    "\n",
    "* $A$ and $\\phi$,\n",
    "* $B$ and $\\psi$,\n",
    "* $C$ and $D$,\n",
    "* $E$ is two-dimensional: it has a pair of real and imaginary parts, or a pair of magnitude and phase, whichever is more convenient,\n",
    "* $G = 2E$ (see tutorial 2 again).\n",
    "\n",
    "It reflects the fact that our solution is entirely determined by two pieces of information: the initial positions and velocities, $x_0$ and $v_0$.\n",
    "It also reflects the fact that a mathematician teaching you about ODEs will tell you that a linear $n^\\text{th}$-order equation has two linearly-independent solutions (these facts are not independent from one another).\n",
    "\n",
    "We will call this type of motion SImple Harmonic Motion (SHM).\n",
    "The acronyms then read: an SHO describes SHM."
   ]
  },
  {
   "cell_type": "markdown",
   "metadata": {
    "slideshow": {
     "slide_type": "skip"
    }
   },
   "source": [
    "Of all these possible forms, the ones that will prove the most useful are the last two, with the complex exponentials.\n",
    "The reason is not particularly obvious for the SHO, because all forms are quite convenient to handle, but sticking to exponentials will prove invaluable when equations become more complicated.\n",
    "So, let's take a step back, pretend we never heard of oscillations during the last lecture, and let us be falsely naive.\n",
    "\n",
    "We will use what I (and only I, as far as I know) call the \"***adopt-an-exponential***\" method.\n",
    "We will \"test\" if the function\n",
    "$$x(t) = a\\eexp{rt}, \\with (a, r) \\in \\mathbb C^2,$$\n",
    "can be a solution, and under which conditions.\n",
    "And to know that, we will plug it in the equation of motion, and let it \"adopt\" the exponential, i.e., tell us which $r$ would work.\n",
    "\n",
    "Note that $r\\in \\mathbb C$, but unlike $\\cplxi \\omega$, it is not purely imaginary and may have a real part.\n",
    "The letter $r$ stands for \"root\"."
   ]
  },
  {
   "cell_type": "markdown",
   "metadata": {
    "slideshow": {
     "slide_type": "skip"
    }
   },
   "source": [
    "Plugging in, $\\ddot x = r^2 a \\eexp{rt}$, and eqn. \\eqref{eq:SHO} becomes\n",
    "$$(r^2 + \\omega_0^2)x(t) = 0.$$\n",
    "So, either $r^2 =- \\omega_0^2$, or $x(t)=0$, and we want it to be true all the time.\n",
    "Now, the latter cannot be zero *all the time*, otherwise... well, there would be no oscillation to study.\n",
    "Therefore, it has to be\n",
    "$$r^2 = -\\omega_0^2\\thrfor r = \\pm\\sqrt{-1}\\omega_0 = \\pm \\cplxi \\omega_0.$$\n",
    "The $\\pm$ is important: it is what tell us that two linearly independent solutions can satisfy this equation, and that the general solution has to be a linear combination of those:\n",
    "$$x(t) = a_1\\eexp{\\cplxi\\omega_0} + a_2\\eexp{-\\cplxi\\omega_0}.$$\n",
    "The ODE has adopted two exponentials, and is excited to see them grow up (or, more accurately, oscillate).\n",
    "\n",
    "To complete the adoption process, the *two* initial conditions will tell us what $a_1$ and $a_2$ are.\n",
    "We've seen it in Tutorial #2: to keep $x$ purely real, we need $a_2 = a_1^*$, and if $x_0$ and $v_0$ are the initial position and velocity, then\n",
    "$$a_1 = \\frac12\\left(x_0 - \\cplxi\\frac{v_0}{\\omega_0}\\right),$$\n",
    "with the amplitude $A = 2|a_1| = \\sqrt{x_0^2 + v_0^2/\\omega_0^2}$ and an initial phase defined by $\\cos\\phi = x_0/A$ and $\\sin\\phi = -v_0/(\\omega_0 A)$.\n",
    "\n",
    "Let us plot this, with the option to change various parameters:"
   ]
  },
  {
   "cell_type": "code",
   "execution_count": 27,
   "metadata": {
    "slideshow": {
     "slide_type": "skip"
    }
   },
   "outputs": [
    {
     "data": {
      "image/png": "[encoded data removed]",
      "text/plain": [
       "<Figure size 600x400 with 2 Axes>"
      ]
     },
     "metadata": {
      "needs_background": "light"
     },
     "output_type": "display_data"
    }
   ],
   "source": [
    "plot_SHO(k=180., m=0.8, x0=4e-2, v0=0.)  # default plot for pdf export\n",
    "plt.show()"
   ]
  },
  {
   "cell_type": "code",
   "execution_count": 28,
   "metadata": {
    "slideshow": {
     "slide_type": "subslide"
    }
   },
   "outputs": [
    {
     "data": {
      "application/vnd.jupyter.widget-view+json": {
       "model_id": "7a22634b4b944e969853f2089a94783f",
       "version_major": 2,
       "version_minor": 0
      },
      "text/plain": [
       "interactive(children=(IntSlider(value=180, description='k', max=540, min=-180), FloatSlider(value=0.8, descrip…"
      ]
     },
     "metadata": {},
     "output_type": "display_data"
    },
    {
     "data": {
      "text/plain": [
       "<function __main__.plot_SHO(k, m, x0, v0)>"
      ]
     },
     "execution_count": 28,
     "metadata": {},
     "output_type": "execute_result"
    }
   ],
   "source": [
    "from ipywidgets import interact, FloatSlider\n",
    "interact(plot_SHO, k=180, m=0.8, x0=FloatSlider(min=-0.1, max=0.1, step=1e-2, value=4e-2), v0=FloatSlider(min=-0.5, max=0.5, step=1e-2, value=0.))"
   ]
  },
  {
   "cell_type": "markdown",
   "metadata": {
    "slideshow": {
     "slide_type": "skip"
    }
   },
   "source": [
    "I have already said it, but let me repeat it: careful about the phase: it is tempting to use $\\arctan$, $\\arcsin$ or $\\arccos$ to say $\\phi=\\dots$, but one vlue for these functions usually corresponds to two possible arguments in the $[0, 2\\pi)$ interval.\n",
    "You always need two pieces of info to settle what the phase is."
   ]
  },
  {
   "cell_type": "markdown",
   "metadata": {
    "slideshow": {
     "slide_type": "skip"
    }
   },
   "source": [
    "# Phase space representation of an oscillation"
   ]
  },
  {
   "cell_type": "markdown",
   "metadata": {
    "slideshow": {
     "slide_type": "skip"
    }
   },
   "source": [
    "A phase space plot, or \"phase portrait\", or \"phase diagram\", is a plot of velocity or momentum versus position, parameterized by time.  These plots are used extensively in the study of ordinary differential equations, dynamical systems, studies of chaos, and so on. In these notes, we want to develop techniques for calculating and interpreting phase space plots.\n",
    "\n",
    "Suppose we have a particle undergoing sinusoidal motion according to $x=A\\cos\\omega_0 t$, with period $T_0 = 2\\pi/\\omega_0$.\n",
    "Its velocity is $\\dot x = -\\omega_0 A\\sin\\omega_0 t$. Say, for example, its a mass on a spring.  We can plot the times series for $x$ and $v$ like below."
   ]
  },
  {
   "cell_type": "code",
   "execution_count": 32,
   "metadata": {
    "slideshow": {
     "slide_type": "slide"
    }
   },
   "outputs": [],
   "source": [
    "omega0 = 1.0  # angular frequency\n",
    "T0 = 2*np.pi/omega0  # period\n",
    "t = np.arange(0, 3*T0, np.pi/100)  # time array\n",
    "A = 1.0  # amplitude\n",
    "phi = np.pi/4  # initial phase\n",
    "x = A*np.cos(omega0*t + phi)  # position\n",
    "v = -omega*A*np.sin(omega0*t+phi)  # velocity\n",
    "\n",
    "xnorm = x/A  # necessary only if we change A\n",
    "vnorm = v/A/omega  # necessary only if we change A or omega"
   ]
  },
  {
   "cell_type": "code",
   "execution_count": 33,
   "metadata": {},
   "outputs": [],
   "source": [
    "def plot_xv_t():\n",
    "    \"\"\" First figure shows time series of x and v \"\"\"\n",
    "    plt.plot(t/T0, xnorm, label=r'$x/A$')\n",
    "    plt.plot(t/T0, vnorm, '--', label=r'$v/(A\\omega_0)$')\n",
    "    plt.legend()\n",
    "    plt.title('Time series')\n",
    "    plt.xlabel(r'$t/T_0$')\n",
    "    plt.xlim(t[0]/T0, t[-1]/T0)\n",
    "    plt.grid()\n",
    "    return"
   ]
  },
  {
   "cell_type": "code",
   "execution_count": 34,
   "metadata": {},
   "outputs": [
    {
     "data": {
      "image/png": "[encoded data removed]",
      "text/plain": [
       "<Figure size 600x400 with 1 Axes>"
      ]
     },
     "metadata": {
      "needs_background": "light"
     },
     "output_type": "display_data"
    }
   ],
   "source": [
    "plot_xv_t()"
   ]
  },
  {
   "cell_type": "markdown",
   "metadata": {},
   "source": [
    "This plot contains a lot of redundant information and it is not necessarily easy to see a clear relationship between $x$ and $v$.\n",
    "\n",
    "The phase portrait takes $x$ and $v$ as coordinates in the plane, and plots the parametric curve\n",
    "$$\\left(x(t),v(t)\\right)=\\left(A\\cos\\omega_0 t,-\\omega_0 A\\sin\\omega_0 t\\right),$$\n",
    "which describes an ellipse with horizontal and vertical axes.\n",
    "Let's plot it."
   ]
  },
  {
   "cell_type": "code",
   "execution_count": 37,
   "metadata": {},
   "outputs": [],
   "source": [
    "def plot_phase_SHM():\n",
    "    \"\"\" Second figure shows phase diagram \"\"\" \n",
    "    plt.plot(xnorm, vnorm)\n",
    "    plt.xlabel(r'$x/A$')\n",
    "    plt.ylabel(r'$v/(\\omega_0 A)$')\n",
    "    plt.arrow(xnorm[0], vnorm[0], xnorm[1]-xnorm[0], vnorm[1]-vnorm[0], width=0.05)\n",
    "    plt.grid()\n",
    "    plt.title('Phase portrait')\n",
    "    plt.xlim([-1.1, 1.1])\n",
    "    plt.ylim([-1.2, 1.1])\n",
    "    plt.axhline(0., color='k')  # $v=0$ axis\n",
    "    plt.axvline(0., color='k')  # $x=0$ axis\n",
    "    plt.axis('equal')\n",
    "    return"
   ]
  },
  {
   "cell_type": "code",
   "execution_count": 38,
   "metadata": {},
   "outputs": [
    {
     "data": {
      "image/png": "[encoded data removed]",
      "text/plain": [
       "<Figure size 600x400 with 1 Axes>"
      ]
     },
     "metadata": {
      "needs_background": "light"
     },
     "output_type": "display_data"
    }
   ],
   "source": [
    "plot_phase_SHM()"
   ]
  },
  {
   "cell_type": "markdown",
   "metadata": {
    "slideshow": {
     "slide_type": "skip"
    }
   },
   "source": [
    "This curve describes the whole motion because it's periodic.\n",
    "With a bit of practice, the following pieces of info are more legible than on the time series plots:\n",
    "* Points where the extension $x$ is extremal are points where $v=0$, and points of maximum velocity occur at $x=0$.\n",
    "* It proceeds clockwise (negative direction), as indicated by the arrow. It highlights that $v$ precedes $x$ in phase: when $v/(\\omega_0 A) = -1$ (its minimal value), we will have $x/A = -1$ one-quarter cycle later."
   ]
  },
  {
   "cell_type": "markdown",
   "metadata": {
    "slideshow": {
     "slide_type": "skip"
    }
   },
   "source": [
    "The plot above looks like a circle in the $(x/A, \\dot x/(\\omega_0 A))$ coordinates, or an ellipse when the axes aren't stretched as arbitrarily.\n",
    "To see why, recall that $x^2 = A^2\\cos^2(\\omega_0 t)$ and $\\dot x^2 = \\omega_0^2 A^2\\sin^2(\\omega_0 t)$. Thus,\n",
    "$$\\frac{x^2}{A^2}+\\frac{\\dot x^2}{\\omega_0^2 A^2}=\\cos^2(\\omega_0 t)+\\sin^2(\\omega_0 t) =1,$$\n",
    "which is the equation of an ellipse in the ($x, \\dot x$) plane, or a circle in the ($x/A, \\dot x/(\\omega_0 A)$) space."
   ]
  },
  {
   "cell_type": "markdown",
   "metadata": {
    "slideshow": {
     "slide_type": "skip"
    }
   },
   "source": [
    "We will often plot systems of interest in phase space, as a way of summarizing their behaviour."
   ]
  },
  {
   "cell_type": "markdown",
   "metadata": {
    "slideshow": {
     "slide_type": "skip"
    }
   },
   "source": [
    "# The pendulum\n",
    "\n",
    "Now that we have nailed the undamped mass+spring system, let's consider a different oscillator, the pendulum.\n",
    "In doing so, I want to show you two things:\n",
    "* An illustration of a non-linear oscillator, and how to linearize the system.\n",
    "* That the equations are generic, the particular physics of a system being contained in the coefficients involved in the equations. In other words, if you can do it with a mass+spring system, you can do it with any other SHO.\n",
    "* A foray into unstable behaviour and non-linear phenomena."
   ]
  },
  {
   "cell_type": "markdown",
   "metadata": {
    "slideshow": {
     "slide_type": "skip"
    }
   },
   "source": [
    "## Equation of motion\n",
    "\n",
    "Consider a mass $m$ at the end of a pendulum of length $\\ell$, released from near its downward position, as sketched below (Morin, fig. 4.2). See also the PhET simulation that follows (and at https://phet.colorado.edu/en/simulation/pendulum-lab; just do the intro to see what we're talking about)."
   ]
  },
  {
   "cell_type": "markdown",
   "metadata": {
    "slideshow": {
     "slide_type": "subslide"
    }
   },
   "source": [
    "<img src=\"Morin_4_2.png\" alt=\"Drawing\" style=\"width: 150px;\"/>"
   ]
  },
  {
   "cell_type": "code",
   "execution_count": 8,
   "metadata": {
    "scrolled": false,
    "slideshow": {
     "slide_type": "subslide"
    }
   },
   "outputs": [
    {
     "data": {
      "text/html": [
       "<iframe src=\"https://phet.colorado.edu/sims/html/pendulum-lab/latest/pendulum-lab_en.html\" width=\"800\" height=\"600\" scrolling=\"no\" allowfullscreen></iframe>\n"
      ],
      "text/plain": [
       "<IPython.core.display.HTML object>"
      ]
     },
     "metadata": {},
     "output_type": "display_data"
    }
   ],
   "source": [
    "%%html\n",
    "<iframe src=\"https://phet.colorado.edu/sims/html/pendulum-lab/latest/pendulum-lab_en.html\" width=\"800\" height=\"600\" scrolling=\"no\" allowfullscreen></iframe>"
   ]
  },
  {
   "cell_type": "markdown",
   "metadata": {
    "slideshow": {
     "slide_type": "skip"
    }
   },
   "source": [
    "Since the mass at the end of the pendulum undergoes circular motion, it makes sense to use the angle $\\theta$ as our variable.\n",
    "\n",
    "But first, a law that is more or less known, and often forgotten: the arc length of an arc circle of radius $\\ell$ and angle $\\theta$ in rad is simply $s=\\ell\\theta$ (for example, the circumference of the whole circle would be $2\\pi\\ell$; the length of an arc circle of angle 1 rad is $\\ell$, by definition of the unit radian).\n",
    "The acceleration *along the arc of the trajectory*, a.k.a. the tangential acceleration, is therefore\n",
    "$$a_\\theta = \\ell \\ddot \\theta.$$"
   ]
  },
  {
   "cell_type": "markdown",
   "metadata": {
    "slideshow": {
     "slide_type": "skip"
    }
   },
   "source": [
    "The mass $m$ is subjected to two forces: \n",
    "\n",
    "* the tension force $\\vec T$ that attaches it to the pendulum, oriented along the pendulum arm towards the centre and perpendicular to the trajectory,\n",
    "* the weight, $\\vec F = -mg\\unit z$.\n",
    "\n",
    "Projected *along the tangential direction of the trajectory*, $\\vec T\\cdot \\unit\\theta = 0$, and the weight is $F_\\theta = - m g\\sin\\theta$ (see sketch below). "
   ]
  },
  {
   "cell_type": "markdown",
   "metadata": {
    "slideshow": {
     "slide_type": "skip"
    }
   },
   "source": [
    "<img src=\"pendulum_sketch.png\" alt=\"Drawing\" style=\"width: 300px;\"/>"
   ]
  },
  {
   "cell_type": "markdown",
   "metadata": {
    "slideshow": {
     "slide_type": "skip"
    }
   },
   "source": [
    "This means that $F_\\theta = -mg\\sin\\theta$, and\n",
    "\\begin{equation}\n",
    "    \\label{eq:PendulumNL}\n",
    "    m\\ell\\ddot\\theta=-mg\\sin\\theta \\oreq \\boxed{\\ddot\\theta=-\\frac g\\ell\\sin\\theta}.\n",
    "\\end{equation}\n",
    "The above equation is a 2nd order homogeneous ODE, but it is **nonlinear** because of the $\\sin\\theta$ (\"If I double $\\theta$, I double the acceleration... not\").\n",
    "This means we can't solve the equation with our guess-an-exponential method (you can try... not much you can do about $\\sin(A\\eexp{bt})$).\n",
    "Later on we will learn how to solve this equation, but for now we are going to consider a restricted version of this pendulum, one that we have been discussing before: the *linear version*."
   ]
  },
  {
   "cell_type": "markdown",
   "metadata": {
    "slideshow": {
     "slide_type": "skip"
    }
   },
   "source": [
    "## Linear pendulum: simple harmonic motion\n",
    "\n",
    "Indeed, I promised I would stick to linear phenomena, which I compared with *gentle physics*, the physics of small deviations from equilibrium.\n",
    "But here, we made not such approximation and $\\theta$ can swing wildly.\n",
    "So, let's do it: let's assume $\\theta\\ll 1$ and ***linearize*** this equation."
   ]
  },
  {
   "cell_type": "markdown",
   "metadata": {
    "slideshow": {
     "slide_type": "skip"
    }
   },
   "source": [
    "For small $\\theta$ we have $\\sin\\theta\\approx\\theta$ (from the Taylor expansion) and under this approximation the equation becomes (replacing $\\approx$ with $=$)\n",
    "\\begin{equation}\n",
    "    \\label{eq:PendulumLin}\n",
    "    \\ddot\\theta+\\frac gl\\theta=0.\n",
    "\\end{equation}\n",
    "So in this special case (for small angle) we get a **linear** 2nd-order homogeneous ODE.  This we know how to solve.\n",
    "\n",
    "$\\sin\\theta$ was a nonlinear function of $\\theta$, and by linearizing the system we can guarantee that the solutions are simpler to find and satisfy the superposition principle (\"double the amplitude...\" is a special case of superposing the same signal onto itself)."
   ]
  },
  {
   "cell_type": "markdown",
   "metadata": {
    "slideshow": {
     "slide_type": "skip"
    }
   },
   "source": [
    "Notice that the form of equation \\eqref{eq:PendulumLin} is exactly the equation we had before for the mass on a spring which gave SHM except that now $\\omega_0=\\sqrt{g/\\ell}$ instead of $\\sqrt{k/m}$.\n",
    "So this case is equivalent to the spring case, as long as $\\theta\\ll1$.\n",
    "But recall that a spring has its own linear regime of small $x$, \"small\" being compared to... well, by how much $x$ has to be to start seeing prominent non-linear phenomena such as maximum compression or permanent deformation.\n",
    "It's just that the pendulum make the non-linear regime \"cleaner\" to describe with mathematical expressions.\n",
    "\n",
    "Exactly like for the mass + spring system, we have solutions of the form \n",
    "$$\\theta=\\theta_0\\cos\\omega_0 t + \\frac{\\dot\\theta_0}{\\omega_0} \\sin\\omega_0 t.$$\n"
   ]
  },
  {
   "cell_type": "markdown",
   "metadata": {
    "slideshow": {
     "slide_type": "skip"
    }
   },
   "source": [
    "Pendulums have an interesting history. The following fun facts are a regurgitation of https://en.wikipedia.org/wiki/Pendulum#History and should motivate you to read about it:\n",
    "\n",
    "* Galileo noticed that the period of a pendulum was independent of amplitude as long as it was small by looking at a giant chandelier hanging off of Pisa's cathedral's ceiling (you can look up pictures of this pendulum, apparently it still exists), and independent of mass.\n",
    "* Huygens used it to make very nice clocks that only deviated by 15 seconds per day instead of the 15 minutes of the previous technology.\n",
    "* People used it to measure $g$ on various points of Earth, leading to a very accurate measure of the shape of the Earth very early on."
   ]
  },
  {
   "cell_type": "markdown",
   "metadata": {
    "slideshow": {
     "slide_type": "skip"
    }
   },
   "source": [
    "## Larger oscillations: the non-linear pendulum\n",
    "\n",
    "### General angles\n",
    "\n",
    "We will probably revisit this case later, but for now, let's just go further in the Taylor expansion of $\\sin\\theta$, that is, \n",
    "$$\\sin\\theta = \\theta - \\frac{\\theta^3}{3!} + \\frac{x^5}{5!} + O(\\theta^7).$$\n",
    "Let's truncate this expansion to the first two terms and plug it back in eqn. \\eqref{eq:PendulumNL} to obtain\n",
    "$$\\ddot\\theta + \\frac g\\ell\\left(\\theta - \\frac{\\theta^3}6\\right)=0.$$\n",
    "Note that I did not use the notation $\\omega_0$ here.\n",
    "This is because I want $\\omega_0$ to retain its special meaning as the angular frequency of linear oscillations.\n",
    "Because we don't have it anymore, and because the angular frequency of oscillations is now different, I prefer to keep $\\sqrt{g/\\ell}$.\n",
    "\n",
    "This equation is actually quite famous, and not just about pendulums.\n",
    "It is called the undamped, undriven Duffing equation.\n",
    "If it were damped and driven, it would exhibit chaotic behaviour (see e.g. https://en.wikipedia.org/wiki/Duffing_equation).\n",
    "\n",
    "For the free version of it (undamped, undriven), there is an analytical formula for the period $T$ for any $\\theta_{max}$ for the full eqn. \\ref{eq:PendulumNL}, although it does not involve solving the ODE, but rather conservation of energy (see Morin, exercise 4.23 on p. 124).\n",
    "Because I want to postpone energy considerations to a little later, I will just write down this solution, which is\n",
    "$$T = \\sqrt{\\frac{8 \\ell}{g}} \\int_0^{\\theta_{max}}\\frac{\\di \\theta}{\\sqrt{\\cos\\theta - \\cos\\theta_{max}}}.$$\n",
    "\n",
    "At this point though, it's more of a fun fact."
   ]
  },
  {
   "cell_type": "markdown",
   "metadata": {
    "slideshow": {
     "slide_type": "skip"
    }
   },
   "source": [
    "### Starting from the upward position\n",
    "\n",
    "Now consider a trickier case: a pendulum released from its upward position. We know that the system will not oscillate about a nearby point, because it is unstable.\n",
    "So what do we do?\n",
    "\n",
    "Using an FBD one finds $F_{\\theta} = -mg\\sin \\theta$ again, Newton's 2nd law is still $\\ddot\\theta = - (g/\\ell)\\sin\\theta$.\n",
    "I will use \n",
    "$$\\sigma = \\sqrt{g/\\ell}$$\n",
    "from now on, because this quantity will still hold a special importance, though not as an angular frequency.\n",
    "\n",
    "We are starting near the angle $\\theta=\\pi$.\n",
    "Because we like our small numbers, let's define a new angle for which the initial angle is zero.\n",
    "That is, define\n",
    "$$\\theta=\\pi-\\delta.$$\n",
    "Then, $\\sin\\theta = \\sin(\\pi-\\theta)$ (easy to see if you draw a circle), $\\dot\\theta=-\\dot\\delta$ and $\\ddot\\theta=-\\ddot\\delta$ and Newton's 2nd law becomes\n",
    "$$\\ddot \\delta - \\sigma^2 \\sin\\delta = 0.$$"
   ]
  },
  {
   "cell_type": "markdown",
   "metadata": {
    "slideshow": {
     "slide_type": "skip"
    }
   },
   "source": [
    "Note that $\\delta=0$ is a possible steady solution of the equation above.\n",
    "This is what it means to be unstable: it could stay there forever if nothing were to perturb it, but the smallest perturbation will dramatically throw it off-balance. \n",
    "This is opposite to the $\\theta = 0$ case, where the smallest perturbation will just create the smallest oscillations, trying to bring the system back to its equilibrium position.\n",
    "But this is also in opposition to any other $\\theta \\neq 0$ or $\\theta \\neq \\pi$ case: those aren't associated with any $\\ddot \\theta = 0$ situation, they are simply out-of-equilibrium (which is different from unstable)."
   ]
  },
  {
   "cell_type": "markdown",
   "metadata": {
    "slideshow": {
     "slide_type": "skip"
    }
   },
   "source": [
    "We can linearize the solution again to small $\\delta$'s.\n",
    "The regime of validity of this approximation will not be as wide as the stable case (pendulum down): there, if $\\theta \\ll 1$ during one oscillation, it will stay that way for ever and the SHO equation will also be valid forever.\n",
    "In the present case, the pendulum will eventually go wayyy down and back wayyyyy up.\n",
    "But the linearization\n",
    "$$\\ddot\\delta - \\sigma^2 \\delta = 0$$\n",
    "should be valid for a few initial moments.\n",
    "\n",
    "Notice the specific difference compared to the pendulum \"down\" case.\n",
    "In that case, we had a \"$+$\" sign in between the terms.\n",
    "Now we have a \"$-$\" sign, and that will make all the difference.\n",
    "\n",
    "To solve this equation we notice that it is a 2nd order, linear, homogeneous ordinary differential equation so we try the \"adopt-an-exponential\" method again: try $x=Ae^{r t}$ and solve for $r$.\n",
    "Doing so gives $r=\\pm \\sigma$.\n",
    "The exponent is now real instead of complex in the pendulum \"down\" case, and we will not see oscillations."
   ]
  },
  {
   "cell_type": "markdown",
   "metadata": {
    "slideshow": {
     "slide_type": "skip"
    }
   },
   "source": [
    "We can now write the solutions as exponential functions,\n",
    "\\begin{align*}\n",
    "\\delta(t) & = Ae^{\\sigma t}+Be^{-\\sigma t}\\\\\n",
    "          & = C\\cosh(\\sigma t) + D\\sinh(\\sigma t)\\\\\n",
    "          & = E\\cosh(\\sigma t + \\phi_1),\n",
    "\\end{align*}\n",
    "etc., are all equivalent.\n",
    "The coefficients are again determined by the initial conditions.\n",
    "\n",
    "We cannot start at exactly $\\delta = 0$, because in theory it would stay there for ever.\n",
    "Instead, consider an initial angle $\\delta(t=0) = \\delta_0 \\ll 1$ but $\\neq 0$, with $\\dot\\delta_0=0$. Using the 2nd form above,\n",
    "$$\\delta(t) = C\\cosh(\\sigma t) + D\\sinh(\\sigma t) \\andeq \\dot\\delta(t) = \\sigma C\\sinh (\\sigma t) +\\sigma D\\cosh (\\sigma t)$$\n",
    "and plugging in the initial conditions, we find\n",
    "$$\\delta_0=C \\andeq 0=D.$$\n",
    "\n",
    "So, \n",
    "$$\\delta(t)=\\delta_0\\cosh \\sigma t=\\frac{\\delta_0}2\\left(e^{\\sigma t}+e^{-\\sigma t}\\right).$$\n",
    "In this case, the solutions are exponentially growing as $t$ increases: a small perturbation grows arbitrarily large with a time scale of $\\sqrt{\\ell/g}$ called the \"growth rate\" (Covid modellers would call it $R_0$). This case is *linearly unstable* (because this is all very linear).\n",
    "But recall that the motion exponentially moves away from the axis only in the initial moments, when the angle is still small.\n",
    "Beyond that, there be nonlinear dragons.\n",
    "\n",
    "And what about the phase plot of this motion? Stay tuned..."
   ]
  },
  {
   "cell_type": "markdown",
   "metadata": {
    "slideshow": {
     "slide_type": "skip"
    }
   },
   "source": [
    "# Summary\n",
    "\n",
    "In this lecture, we saw the following.\n",
    "\n",
    "* How to derive the motion of a SHO using ODE science and the \"adopt-an-exponential\" method.\n",
    "* How to completely determine SHM based on initial position and velocity.\n",
    "* How to linearize a non-linear equation of motion, from the pendulum example, assuming small deviations from rest and Taylor expansions.\n",
    "* What a phase portrait, also called phase diagram or phase-space plot, is, illustrated with the case of SHM.\n",
    "* How to predict the shape of the phase portrait based on the $x$, $v$ solutions in simple cases.\n",
    "* A first exposure to what a non-linear oscillator is.\n",
    "* A first exposure to linear instability analysis."
   ]
  }
 ],
 "metadata": {
  "anaconda-cloud": {},
  "celltoolbar": "Slideshow",
  "kernelspec": {
   "display_name": "Python 3",
   "language": "python",
   "name": "python3"
  },
  "language_info": {
   "codemirror_mode": {
    "name": "ipython",
    "version": 3
   },
   "file_extension": ".py",
   "mimetype": "text/x-python",
   "name": "python",
   "nbconvert_exporter": "python",
   "pygments_lexer": "ipython3",
   "version": "3.8.10"
  }
 },
 "nbformat": 4,
 "nbformat_minor": 4
}
